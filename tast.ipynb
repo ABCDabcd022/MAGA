{
 "cells": [
  {
   "cell_type": "markdown",
   "metadata": {},
   "source": [
    "# Тестовое задание. Смирнов Н.В."
   ]
  },
  {
   "cell_type": "markdown",
   "metadata": {},
   "source": [
    "## 1.Формулировка задачи"
   ]
  },
  {
   "cell_type": "markdown",
   "metadata": {},
   "source": [
    "Задача: Разработать модель предсказания в каждом регионе объема продаж в штуках любого, выбранного вами, вида банки напитка Coca Cola.\n",
    "Модель должна предсказывать объем продаж на каждый час следующих суток (от последней даты транзакции в датасете)."
   ]
  },
  {
   "cell_type": "markdown",
   "metadata": {},
   "source": [
    "Про виды банок в данных ничего нет, может быть вид банки зависит от цены, и мне самому нужно их найти? Для этого нужно провести какую-то кластерицацию по цене?    \n",
    "Но банки колы бывают только одного вида: 0,33 литра. И стоят они от 25 (в прошлом) до 100 рублей (сейчас). "
   ]
  },
  {
   "cell_type": "markdown",
   "metadata": {},
   "source": [
    "Описание полей в датасете:          \n",
    "item_id // Id транзакции           \n",
    "receipt_id // Id чека          \n",
    "device_id // Id кассового аппарата          \n",
    "local_date // Дата и время покупки        \n",
    "barcode // Штрихкод (Штрихкод на банке? Штрих-коды уникальны для каждого вида товара, а не для каждого экземпляра.)          \n",
    "price // Цена покупки, рубли (Я так понял, цена одной банки, иначе было бы слово стоимость)        \n",
    "quantity // Количество купленного товара, шт.         \n",
    "region // Регион      "
   ]
  },
  {
   "cell_type": "markdown",
   "metadata": {},
   "source": [
    "## 2.Посмотрим на данные"
   ]
  },
  {
   "cell_type": "code",
   "execution_count": 1,
   "metadata": {},
   "outputs": [],
   "source": [
    "import pandas as pd"
   ]
  },
  {
   "cell_type": "code",
   "execution_count": 2,
   "metadata": {},
   "outputs": [],
   "source": [
    "data_path = r'dataset.csv'\n",
    "\n",
    "data = pd.read_csv(data_path)"
   ]
  },
  {
   "cell_type": "code",
   "execution_count": 3,
   "metadata": {},
   "outputs": [
    {
     "data": {
      "text/html": [
       "<div>\n",
       "<style scoped>\n",
       "    .dataframe tbody tr th:only-of-type {\n",
       "        vertical-align: middle;\n",
       "    }\n",
       "\n",
       "    .dataframe tbody tr th {\n",
       "        vertical-align: top;\n",
       "    }\n",
       "\n",
       "    .dataframe thead th {\n",
       "        text-align: right;\n",
       "    }\n",
       "</style>\n",
       "<table border=\"1\" class=\"dataframe\">\n",
       "  <thead>\n",
       "    <tr style=\"text-align: right;\">\n",
       "      <th></th>\n",
       "      <th>Unnamed: 0</th>\n",
       "      <th>item_id</th>\n",
       "      <th>receipt_id</th>\n",
       "      <th>device_id</th>\n",
       "      <th>local_date</th>\n",
       "      <th>barcode</th>\n",
       "      <th>price</th>\n",
       "      <th>quantity</th>\n",
       "      <th>region</th>\n",
       "    </tr>\n",
       "  </thead>\n",
       "  <tbody>\n",
       "    <tr>\n",
       "      <th>0</th>\n",
       "      <td>0</td>\n",
       "      <td>11660931229</td>\n",
       "      <td>7364786357</td>\n",
       "      <td>352402250963288</td>\n",
       "      <td>2021-02-02 00:00:01</td>\n",
       "      <td>46200310</td>\n",
       "      <td>133.0</td>\n",
       "      <td>1.0</td>\n",
       "      <td>Нижегородская область</td>\n",
       "    </tr>\n",
       "    <tr>\n",
       "      <th>1</th>\n",
       "      <td>1</td>\n",
       "      <td>11660931230</td>\n",
       "      <td>7364786357</td>\n",
       "      <td>352402250963288</td>\n",
       "      <td>2021-02-02 00:00:01</td>\n",
       "      <td>4601501425437</td>\n",
       "      <td>100.0</td>\n",
       "      <td>1.0</td>\n",
       "      <td>Нижегородская область</td>\n",
       "    </tr>\n",
       "    <tr>\n",
       "      <th>2</th>\n",
       "      <td>2</td>\n",
       "      <td>11660931245</td>\n",
       "      <td>7364786362</td>\n",
       "      <td>352403362581574</td>\n",
       "      <td>2021-02-02 00:00:04</td>\n",
       "      <td>NaN</td>\n",
       "      <td>50.0</td>\n",
       "      <td>1.0</td>\n",
       "      <td>Москва</td>\n",
       "    </tr>\n",
       "    <tr>\n",
       "      <th>3</th>\n",
       "      <td>3</td>\n",
       "      <td>11660931313</td>\n",
       "      <td>7364786391</td>\n",
       "      <td>352399468048288</td>\n",
       "      <td>2021-02-02 01:00:11</td>\n",
       "      <td>NaN</td>\n",
       "      <td>29.0</td>\n",
       "      <td>1.0</td>\n",
       "      <td>Ульяновская область</td>\n",
       "    </tr>\n",
       "    <tr>\n",
       "      <th>4</th>\n",
       "      <td>4</td>\n",
       "      <td>11660931336</td>\n",
       "      <td>7364786406</td>\n",
       "      <td>352401023174844</td>\n",
       "      <td>2021-02-02 00:00:17</td>\n",
       "      <td>NaN</td>\n",
       "      <td>250.0</td>\n",
       "      <td>1.0</td>\n",
       "      <td>Москва</td>\n",
       "    </tr>\n",
       "    <tr>\n",
       "      <th>...</th>\n",
       "      <td>...</td>\n",
       "      <td>...</td>\n",
       "      <td>...</td>\n",
       "      <td>...</td>\n",
       "      <td>...</td>\n",
       "      <td>...</td>\n",
       "      <td>...</td>\n",
       "      <td>...</td>\n",
       "      <td>...</td>\n",
       "    </tr>\n",
       "    <tr>\n",
       "      <th>2246089</th>\n",
       "      <td>2246089</td>\n",
       "      <td>11660931038</td>\n",
       "      <td>7364786218</td>\n",
       "      <td>352405756881967</td>\n",
       "      <td>2021-02-01 23:59:35</td>\n",
       "      <td>46221599</td>\n",
       "      <td>105.0</td>\n",
       "      <td>1.0</td>\n",
       "      <td>Воронежская область</td>\n",
       "    </tr>\n",
       "    <tr>\n",
       "      <th>2246090</th>\n",
       "      <td>2246090</td>\n",
       "      <td>11660931098</td>\n",
       "      <td>7364786258</td>\n",
       "      <td>352400866634268</td>\n",
       "      <td>2021-02-01 23:59:46</td>\n",
       "      <td>NaN</td>\n",
       "      <td>1700.0</td>\n",
       "      <td>0.1</td>\n",
       "      <td>Краснодарский край</td>\n",
       "    </tr>\n",
       "    <tr>\n",
       "      <th>2246091</th>\n",
       "      <td>2246091</td>\n",
       "      <td>11660931118</td>\n",
       "      <td>7364786270</td>\n",
       "      <td>352402818554872</td>\n",
       "      <td>2021-02-01 23:59:42</td>\n",
       "      <td>46204837</td>\n",
       "      <td>135.0</td>\n",
       "      <td>1.0</td>\n",
       "      <td>Москва</td>\n",
       "    </tr>\n",
       "    <tr>\n",
       "      <th>2246092</th>\n",
       "      <td>2246092</td>\n",
       "      <td>11660931119</td>\n",
       "      <td>7364786270</td>\n",
       "      <td>352402818554872</td>\n",
       "      <td>2021-02-01 23:59:42</td>\n",
       "      <td>2000000000015</td>\n",
       "      <td>32.0</td>\n",
       "      <td>0.5</td>\n",
       "      <td>Москва</td>\n",
       "    </tr>\n",
       "    <tr>\n",
       "      <th>2246093</th>\n",
       "      <td>2246093</td>\n",
       "      <td>11660931120</td>\n",
       "      <td>7364786270</td>\n",
       "      <td>352402818554872</td>\n",
       "      <td>2021-02-01 23:59:42</td>\n",
       "      <td>4602441011285</td>\n",
       "      <td>79.0</td>\n",
       "      <td>1.0</td>\n",
       "      <td>Москва</td>\n",
       "    </tr>\n",
       "  </tbody>\n",
       "</table>\n",
       "<p>2246094 rows × 9 columns</p>\n",
       "</div>"
      ],
      "text/plain": [
       "         Unnamed: 0      item_id  receipt_id        device_id  \\\n",
       "0                 0  11660931229  7364786357  352402250963288   \n",
       "1                 1  11660931230  7364786357  352402250963288   \n",
       "2                 2  11660931245  7364786362  352403362581574   \n",
       "3                 3  11660931313  7364786391  352399468048288   \n",
       "4                 4  11660931336  7364786406  352401023174844   \n",
       "...             ...          ...         ...              ...   \n",
       "2246089     2246089  11660931038  7364786218  352405756881967   \n",
       "2246090     2246090  11660931098  7364786258  352400866634268   \n",
       "2246091     2246091  11660931118  7364786270  352402818554872   \n",
       "2246092     2246092  11660931119  7364786270  352402818554872   \n",
       "2246093     2246093  11660931120  7364786270  352402818554872   \n",
       "\n",
       "                  local_date        barcode   price  quantity  \\\n",
       "0        2021-02-02 00:00:01       46200310   133.0       1.0   \n",
       "1        2021-02-02 00:00:01  4601501425437   100.0       1.0   \n",
       "2        2021-02-02 00:00:04            NaN    50.0       1.0   \n",
       "3        2021-02-02 01:00:11            NaN    29.0       1.0   \n",
       "4        2021-02-02 00:00:17            NaN   250.0       1.0   \n",
       "...                      ...            ...     ...       ...   \n",
       "2246089  2021-02-01 23:59:35       46221599   105.0       1.0   \n",
       "2246090  2021-02-01 23:59:46            NaN  1700.0       0.1   \n",
       "2246091  2021-02-01 23:59:42       46204837   135.0       1.0   \n",
       "2246092  2021-02-01 23:59:42  2000000000015    32.0       0.5   \n",
       "2246093  2021-02-01 23:59:42  4602441011285    79.0       1.0   \n",
       "\n",
       "                        region  \n",
       "0        Нижегородская область  \n",
       "1        Нижегородская область  \n",
       "2                       Москва  \n",
       "3          Ульяновская область  \n",
       "4                       Москва  \n",
       "...                        ...  \n",
       "2246089    Воронежская область  \n",
       "2246090     Краснодарский край  \n",
       "2246091                 Москва  \n",
       "2246092                 Москва  \n",
       "2246093                 Москва  \n",
       "\n",
       "[2246094 rows x 9 columns]"
      ]
     },
     "execution_count": 3,
     "metadata": {},
     "output_type": "execute_result"
    }
   ],
   "source": [
    "data"
   ]
  },
  {
   "cell_type": "markdown",
   "metadata": {},
   "source": [
    "### 1) Порассуждаем"
   ]
  },
  {
   "cell_type": "markdown",
   "metadata": {},
   "source": [
    "Так, здесь строка - это конкретная покупка нашего товара (банка колы). Эти покупки имеют своё конкретное время с точностью до секунды, свой id, конкретный аппарат оплаты, чек, штрихкод, цену, кольчество товара в штуках и регион.\n",
    "Нам нужно удалить то, что точно не относится к делу: \"Unnamed: 0\", \"item_id\", \"receipt_id\", \"device_id\", \"barcode\".\n",
    "Мы должны предсказывать объем продаж на каждый час следующих суток в каждом регионе. Так что \"device_id\" нам не нужен, мы бы пользовались им, если бы смотрели продажи в каждом магазине.\n",
    "Раз мы будем предсказывать по часам, нам нужно суммировать количестыо товара по часам."
   ]
  },
  {
   "cell_type": "markdown",
   "metadata": {},
   "source": [
    "Посмотрим, сколько уникальных штриз-кодов? Может это прольёт свет на то, какие бывает виды банок?"
   ]
  },
  {
   "cell_type": "code",
   "execution_count": 4,
   "metadata": {},
   "outputs": [
    {
     "data": {
      "text/plain": [
       "array(['46200310', '4601501425437', nan, ..., '4670001094795',\n",
       "       '4025700001030', '4607029053251'], dtype=object)"
      ]
     },
     "execution_count": 4,
     "metadata": {},
     "output_type": "execute_result"
    }
   ],
   "source": [
    "data['barcode'].unique()"
   ]
  },
  {
   "cell_type": "code",
   "execution_count": 5,
   "metadata": {},
   "outputs": [
    {
     "data": {
      "text/plain": [
       "(156858,)"
      ]
     },
     "execution_count": 5,
     "metadata": {},
     "output_type": "execute_result"
    }
   ],
   "source": [
    "(data['barcode'].unique()).shape"
   ]
  },
  {
   "cell_type": "markdown",
   "metadata": {},
   "source": [
    "Похоже, он нам ничем не поможет."
   ]
  },
  {
   "cell_type": "markdown",
   "metadata": {},
   "source": [
    "### 2) Удалим ненужные столбцы"
   ]
  },
  {
   "cell_type": "code",
   "execution_count": 6,
   "metadata": {},
   "outputs": [],
   "source": [
    "# Удаление ненужных столбцов\n",
    "columns_to_drop = [\"item_id\", \"receipt_id\", \"device_id\", \"barcode\"]\n",
    "# \"Unnamed: 0\" оставим, будет вместо id\n",
    "data.drop(columns=columns_to_drop, inplace=True)"
   ]
  },
  {
   "cell_type": "code",
   "execution_count": 7,
   "metadata": {},
   "outputs": [
    {
     "data": {
      "text/html": [
       "<div>\n",
       "<style scoped>\n",
       "    .dataframe tbody tr th:only-of-type {\n",
       "        vertical-align: middle;\n",
       "    }\n",
       "\n",
       "    .dataframe tbody tr th {\n",
       "        vertical-align: top;\n",
       "    }\n",
       "\n",
       "    .dataframe thead th {\n",
       "        text-align: right;\n",
       "    }\n",
       "</style>\n",
       "<table border=\"1\" class=\"dataframe\">\n",
       "  <thead>\n",
       "    <tr style=\"text-align: right;\">\n",
       "      <th></th>\n",
       "      <th>Unnamed: 0</th>\n",
       "      <th>local_date</th>\n",
       "      <th>price</th>\n",
       "      <th>quantity</th>\n",
       "      <th>region</th>\n",
       "    </tr>\n",
       "  </thead>\n",
       "  <tbody>\n",
       "    <tr>\n",
       "      <th>0</th>\n",
       "      <td>0</td>\n",
       "      <td>2021-02-02 00:00:01</td>\n",
       "      <td>133.0</td>\n",
       "      <td>1.0</td>\n",
       "      <td>Нижегородская область</td>\n",
       "    </tr>\n",
       "    <tr>\n",
       "      <th>1</th>\n",
       "      <td>1</td>\n",
       "      <td>2021-02-02 00:00:01</td>\n",
       "      <td>100.0</td>\n",
       "      <td>1.0</td>\n",
       "      <td>Нижегородская область</td>\n",
       "    </tr>\n",
       "    <tr>\n",
       "      <th>2</th>\n",
       "      <td>2</td>\n",
       "      <td>2021-02-02 00:00:04</td>\n",
       "      <td>50.0</td>\n",
       "      <td>1.0</td>\n",
       "      <td>Москва</td>\n",
       "    </tr>\n",
       "    <tr>\n",
       "      <th>3</th>\n",
       "      <td>3</td>\n",
       "      <td>2021-02-02 01:00:11</td>\n",
       "      <td>29.0</td>\n",
       "      <td>1.0</td>\n",
       "      <td>Ульяновская область</td>\n",
       "    </tr>\n",
       "    <tr>\n",
       "      <th>4</th>\n",
       "      <td>4</td>\n",
       "      <td>2021-02-02 00:00:17</td>\n",
       "      <td>250.0</td>\n",
       "      <td>1.0</td>\n",
       "      <td>Москва</td>\n",
       "    </tr>\n",
       "    <tr>\n",
       "      <th>...</th>\n",
       "      <td>...</td>\n",
       "      <td>...</td>\n",
       "      <td>...</td>\n",
       "      <td>...</td>\n",
       "      <td>...</td>\n",
       "    </tr>\n",
       "    <tr>\n",
       "      <th>2246089</th>\n",
       "      <td>2246089</td>\n",
       "      <td>2021-02-01 23:59:35</td>\n",
       "      <td>105.0</td>\n",
       "      <td>1.0</td>\n",
       "      <td>Воронежская область</td>\n",
       "    </tr>\n",
       "    <tr>\n",
       "      <th>2246090</th>\n",
       "      <td>2246090</td>\n",
       "      <td>2021-02-01 23:59:46</td>\n",
       "      <td>1700.0</td>\n",
       "      <td>0.1</td>\n",
       "      <td>Краснодарский край</td>\n",
       "    </tr>\n",
       "    <tr>\n",
       "      <th>2246091</th>\n",
       "      <td>2246091</td>\n",
       "      <td>2021-02-01 23:59:42</td>\n",
       "      <td>135.0</td>\n",
       "      <td>1.0</td>\n",
       "      <td>Москва</td>\n",
       "    </tr>\n",
       "    <tr>\n",
       "      <th>2246092</th>\n",
       "      <td>2246092</td>\n",
       "      <td>2021-02-01 23:59:42</td>\n",
       "      <td>32.0</td>\n",
       "      <td>0.5</td>\n",
       "      <td>Москва</td>\n",
       "    </tr>\n",
       "    <tr>\n",
       "      <th>2246093</th>\n",
       "      <td>2246093</td>\n",
       "      <td>2021-02-01 23:59:42</td>\n",
       "      <td>79.0</td>\n",
       "      <td>1.0</td>\n",
       "      <td>Москва</td>\n",
       "    </tr>\n",
       "  </tbody>\n",
       "</table>\n",
       "<p>2246094 rows × 5 columns</p>\n",
       "</div>"
      ],
      "text/plain": [
       "         Unnamed: 0           local_date   price  quantity  \\\n",
       "0                 0  2021-02-02 00:00:01   133.0       1.0   \n",
       "1                 1  2021-02-02 00:00:01   100.0       1.0   \n",
       "2                 2  2021-02-02 00:00:04    50.0       1.0   \n",
       "3                 3  2021-02-02 01:00:11    29.0       1.0   \n",
       "4                 4  2021-02-02 00:00:17   250.0       1.0   \n",
       "...             ...                  ...     ...       ...   \n",
       "2246089     2246089  2021-02-01 23:59:35   105.0       1.0   \n",
       "2246090     2246090  2021-02-01 23:59:46  1700.0       0.1   \n",
       "2246091     2246091  2021-02-01 23:59:42   135.0       1.0   \n",
       "2246092     2246092  2021-02-01 23:59:42    32.0       0.5   \n",
       "2246093     2246093  2021-02-01 23:59:42    79.0       1.0   \n",
       "\n",
       "                        region  \n",
       "0        Нижегородская область  \n",
       "1        Нижегородская область  \n",
       "2                       Москва  \n",
       "3          Ульяновская область  \n",
       "4                       Москва  \n",
       "...                        ...  \n",
       "2246089    Воронежская область  \n",
       "2246090     Краснодарский край  \n",
       "2246091                 Москва  \n",
       "2246092                 Москва  \n",
       "2246093                 Москва  \n",
       "\n",
       "[2246094 rows x 5 columns]"
      ]
     },
     "execution_count": 7,
     "metadata": {},
     "output_type": "execute_result"
    }
   ],
   "source": [
    "data"
   ]
  },
  {
   "cell_type": "markdown",
   "metadata": {},
   "source": [
    "### 3) Посмотрим на типы данных"
   ]
  },
  {
   "cell_type": "code",
   "execution_count": 8,
   "metadata": {},
   "outputs": [
    {
     "name": "stdout",
     "output_type": "stream",
     "text": [
      "<class 'pandas.core.frame.DataFrame'>\n",
      "RangeIndex: 2246094 entries, 0 to 2246093\n",
      "Data columns (total 5 columns):\n",
      " #   Column      Dtype  \n",
      "---  ------      -----  \n",
      " 0   Unnamed: 0  int64  \n",
      " 1   local_date  object \n",
      " 2   price       float64\n",
      " 3   quantity    float64\n",
      " 4   region      object \n",
      "dtypes: float64(2), int64(1), object(2)\n",
      "memory usage: 85.7+ MB\n"
     ]
    }
   ],
   "source": [
    "data.info()"
   ]
  },
  {
   "cell_type": "markdown",
   "metadata": {},
   "source": [
    "### 4) Пропуски"
   ]
  },
  {
   "cell_type": "markdown",
   "metadata": {},
   "source": [
    "Посмотрим, есть ли они?"
   ]
  },
  {
   "cell_type": "code",
   "execution_count": 9,
   "metadata": {},
   "outputs": [
    {
     "data": {
      "text/plain": [
       "Unnamed: 0       0\n",
       "local_date       0\n",
       "price            0\n",
       "quantity         0\n",
       "region        1020\n",
       "dtype: int64"
      ]
     },
     "execution_count": 9,
     "metadata": {},
     "output_type": "execute_result"
    }
   ],
   "source": [
    "data.isnull().sum()"
   ]
  },
  {
   "cell_type": "code",
   "execution_count": 10,
   "metadata": {},
   "outputs": [
    {
     "name": "stdout",
     "output_type": "stream",
     "text": [
      "Количество строк до удаления пропусков: 2246094\n"
     ]
    }
   ],
   "source": [
    "print(f\"Количество строк до удаления пропусков: {data.shape[0]}\")"
   ]
  },
  {
   "cell_type": "markdown",
   "metadata": {},
   "source": [
    "Надо удалять. У нас ещё очень много значений. "
   ]
  },
  {
   "cell_type": "code",
   "execution_count": 11,
   "metadata": {},
   "outputs": [],
   "source": [
    "# Удаление строк с пропущенными значениями\n",
    "data.dropna(inplace=True)"
   ]
  },
  {
   "cell_type": "code",
   "execution_count": 12,
   "metadata": {},
   "outputs": [
    {
     "name": "stdout",
     "output_type": "stream",
     "text": [
      "Количество строк после удаления пропусков: 2245074\n"
     ]
    }
   ],
   "source": [
    "print(f\"Количество строк после удаления пропусков: {data.shape[0]}\")"
   ]
  },
  {
   "cell_type": "code",
   "execution_count": 13,
   "metadata": {},
   "outputs": [
    {
     "data": {
      "text/plain": [
       "Unnamed: 0    0\n",
       "local_date    0\n",
       "price         0\n",
       "quantity      0\n",
       "region        0\n",
       "dtype: int64"
      ]
     },
     "execution_count": 13,
     "metadata": {},
     "output_type": "execute_result"
    }
   ],
   "source": [
    "data.isnull().sum()"
   ]
  },
  {
   "cell_type": "code",
   "execution_count": 14,
   "metadata": {},
   "outputs": [
    {
     "data": {
      "text/html": [
       "<div>\n",
       "<style scoped>\n",
       "    .dataframe tbody tr th:only-of-type {\n",
       "        vertical-align: middle;\n",
       "    }\n",
       "\n",
       "    .dataframe tbody tr th {\n",
       "        vertical-align: top;\n",
       "    }\n",
       "\n",
       "    .dataframe thead th {\n",
       "        text-align: right;\n",
       "    }\n",
       "</style>\n",
       "<table border=\"1\" class=\"dataframe\">\n",
       "  <thead>\n",
       "    <tr style=\"text-align: right;\">\n",
       "      <th></th>\n",
       "      <th>Unnamed: 0</th>\n",
       "      <th>local_date</th>\n",
       "      <th>price</th>\n",
       "      <th>quantity</th>\n",
       "      <th>region</th>\n",
       "    </tr>\n",
       "  </thead>\n",
       "  <tbody>\n",
       "    <tr>\n",
       "      <th>0</th>\n",
       "      <td>0</td>\n",
       "      <td>2021-02-02 00:00:01</td>\n",
       "      <td>133.0</td>\n",
       "      <td>1.0</td>\n",
       "      <td>Нижегородская область</td>\n",
       "    </tr>\n",
       "    <tr>\n",
       "      <th>1</th>\n",
       "      <td>1</td>\n",
       "      <td>2021-02-02 00:00:01</td>\n",
       "      <td>100.0</td>\n",
       "      <td>1.0</td>\n",
       "      <td>Нижегородская область</td>\n",
       "    </tr>\n",
       "    <tr>\n",
       "      <th>2</th>\n",
       "      <td>2</td>\n",
       "      <td>2021-02-02 00:00:04</td>\n",
       "      <td>50.0</td>\n",
       "      <td>1.0</td>\n",
       "      <td>Москва</td>\n",
       "    </tr>\n",
       "    <tr>\n",
       "      <th>3</th>\n",
       "      <td>3</td>\n",
       "      <td>2021-02-02 01:00:11</td>\n",
       "      <td>29.0</td>\n",
       "      <td>1.0</td>\n",
       "      <td>Ульяновская область</td>\n",
       "    </tr>\n",
       "    <tr>\n",
       "      <th>4</th>\n",
       "      <td>4</td>\n",
       "      <td>2021-02-02 00:00:17</td>\n",
       "      <td>250.0</td>\n",
       "      <td>1.0</td>\n",
       "      <td>Москва</td>\n",
       "    </tr>\n",
       "    <tr>\n",
       "      <th>...</th>\n",
       "      <td>...</td>\n",
       "      <td>...</td>\n",
       "      <td>...</td>\n",
       "      <td>...</td>\n",
       "      <td>...</td>\n",
       "    </tr>\n",
       "    <tr>\n",
       "      <th>2246089</th>\n",
       "      <td>2246089</td>\n",
       "      <td>2021-02-01 23:59:35</td>\n",
       "      <td>105.0</td>\n",
       "      <td>1.0</td>\n",
       "      <td>Воронежская область</td>\n",
       "    </tr>\n",
       "    <tr>\n",
       "      <th>2246090</th>\n",
       "      <td>2246090</td>\n",
       "      <td>2021-02-01 23:59:46</td>\n",
       "      <td>1700.0</td>\n",
       "      <td>0.1</td>\n",
       "      <td>Краснодарский край</td>\n",
       "    </tr>\n",
       "    <tr>\n",
       "      <th>2246091</th>\n",
       "      <td>2246091</td>\n",
       "      <td>2021-02-01 23:59:42</td>\n",
       "      <td>135.0</td>\n",
       "      <td>1.0</td>\n",
       "      <td>Москва</td>\n",
       "    </tr>\n",
       "    <tr>\n",
       "      <th>2246092</th>\n",
       "      <td>2246092</td>\n",
       "      <td>2021-02-01 23:59:42</td>\n",
       "      <td>32.0</td>\n",
       "      <td>0.5</td>\n",
       "      <td>Москва</td>\n",
       "    </tr>\n",
       "    <tr>\n",
       "      <th>2246093</th>\n",
       "      <td>2246093</td>\n",
       "      <td>2021-02-01 23:59:42</td>\n",
       "      <td>79.0</td>\n",
       "      <td>1.0</td>\n",
       "      <td>Москва</td>\n",
       "    </tr>\n",
       "  </tbody>\n",
       "</table>\n",
       "<p>2245074 rows × 5 columns</p>\n",
       "</div>"
      ],
      "text/plain": [
       "         Unnamed: 0           local_date   price  quantity  \\\n",
       "0                 0  2021-02-02 00:00:01   133.0       1.0   \n",
       "1                 1  2021-02-02 00:00:01   100.0       1.0   \n",
       "2                 2  2021-02-02 00:00:04    50.0       1.0   \n",
       "3                 3  2021-02-02 01:00:11    29.0       1.0   \n",
       "4                 4  2021-02-02 00:00:17   250.0       1.0   \n",
       "...             ...                  ...     ...       ...   \n",
       "2246089     2246089  2021-02-01 23:59:35   105.0       1.0   \n",
       "2246090     2246090  2021-02-01 23:59:46  1700.0       0.1   \n",
       "2246091     2246091  2021-02-01 23:59:42   135.0       1.0   \n",
       "2246092     2246092  2021-02-01 23:59:42    32.0       0.5   \n",
       "2246093     2246093  2021-02-01 23:59:42    79.0       1.0   \n",
       "\n",
       "                        region  \n",
       "0        Нижегородская область  \n",
       "1        Нижегородская область  \n",
       "2                       Москва  \n",
       "3          Ульяновская область  \n",
       "4                       Москва  \n",
       "...                        ...  \n",
       "2246089    Воронежская область  \n",
       "2246090     Краснодарский край  \n",
       "2246091                 Москва  \n",
       "2246092                 Москва  \n",
       "2246093                 Москва  \n",
       "\n",
       "[2245074 rows x 5 columns]"
      ]
     },
     "execution_count": 14,
     "metadata": {},
     "output_type": "execute_result"
    }
   ],
   "source": [
    "data"
   ]
  },
  {
   "cell_type": "markdown",
   "metadata": {},
   "source": [
    "### 5) Выбросы"
   ]
  },
  {
   "cell_type": "markdown",
   "metadata": {},
   "source": [
    "#### a) Цена"
   ]
  },
  {
   "cell_type": "markdown",
   "metadata": {},
   "source": [
    "Построим ящики с усами."
   ]
  },
  {
   "cell_type": "code",
   "execution_count": 15,
   "metadata": {},
   "outputs": [],
   "source": [
    "import matplotlib.pyplot as plt\n",
    "\n",
    "def box_plot(feature, title, xlabel):\n",
    "    # Построение ящика с усами \n",
    "    plt.figure(figsize=(10, 6))\n",
    "    plt.boxplot(data['price'], vert=False)  # График горизонтальный\n",
    "    plt.title(title)\n",
    "    plt.xlabel(xlabel)\n",
    "    plt.grid(axis='x')  # Добавление сетки по оси X\n",
    "    plt.show()"
   ]
  },
  {
   "cell_type": "code",
   "execution_count": 16,
   "metadata": {},
   "outputs": [
    {
     "data": {
      "image/png": "[encoded data removed]",
      "text/plain": [
       "<Figure size 1000x600 with 1 Axes>"
      ]
     },
     "metadata": {},
     "output_type": "display_data"
    }
   ],
   "source": [
    "box_plot(data['price'], 'Ящик с усами для цены (price)', 'Цена')"
   ]
  },
  {
   "cell_type": "markdown",
   "metadata": {},
   "source": [
    "Огромные выбросы. Надо отрезать."
   ]
  },
  {
   "cell_type": "markdown",
   "metadata": {},
   "source": [
    "Интересно. Я так понимаю, price, это цена одной банки.     \n",
    "Удаляем выбросы дальше, посмотрим, сколько останется значений."
   ]
  },
  {
   "cell_type": "code",
   "execution_count": 17,
   "metadata": {},
   "outputs": [],
   "source": [
    "# Вычисление IQR для определения выбросов\n",
    "Q1 = data['price'].quantile(0.25)\n",
    "Q3 = data['price'].quantile(0.75)\n",
    "IQR = Q3 - Q1\n",
    "\n",
    "# Определение границ для выбросов\n",
    "lower_bound = Q1 - 1.5 * IQR\n",
    "upper_bound = Q3 + 1.5 * IQR\n",
    "\n",
    "# Удаление выбросов\n",
    "data_cut = data[(data['price'] >= lower_bound) & (data['price'] <= upper_bound)]"
   ]
  },
  {
   "cell_type": "code",
   "execution_count": 18,
   "metadata": {},
   "outputs": [
    {
     "data": {
      "image/png": "[encoded data removed]",
      "text/plain": [
       "<Figure size 1000x600 with 1 Axes>"
      ]
     },
     "metadata": {},
     "output_type": "display_data"
    }
   ],
   "source": [
    "box_plot(data_cut['price'], 'Ящик с усами для цены (price)', 'Цена')"
   ]
  },
  {
   "cell_type": "code",
   "execution_count": 19,
   "metadata": {},
   "outputs": [],
   "source": [
    "data_cut = data_cut[data_cut['price'] < 100]"
   ]
  },
  {
   "cell_type": "code",
   "execution_count": 20,
   "metadata": {},
   "outputs": [
    {
     "data": {
      "image/png": "[encoded data removed]",
      "text/plain": [
       "<Figure size 1000x600 with 1 Axes>"
      ]
     },
     "metadata": {},
     "output_type": "display_data"
    }
   ],
   "source": [
    "box_plot(data_cut['price'], 'Ящик с усами для цены (price)', 'Цена')"
   ]
  },
  {
   "cell_type": "markdown",
   "metadata": {},
   "source": [
    "Банок колы дороже 150 рублей вроде пока не бывает.     \n",
    "Посмотрим что там с обратного конца."
   ]
  },
  {
   "cell_type": "code",
   "execution_count": 21,
   "metadata": {},
   "outputs": [
    {
     "data": {
      "text/plain": [
       "(8769, 5)"
      ]
     },
     "execution_count": 21,
     "metadata": {},
     "output_type": "execute_result"
    }
   ],
   "source": [
    "(data_cut[data_cut['price'] == 0]).shape"
   ]
  },
  {
   "cell_type": "markdown",
   "metadata": {},
   "source": [
    "Ну это ужас. Надо тоже обрезать. Ну пусть будет 30 рублей. "
   ]
  },
  {
   "cell_type": "code",
   "execution_count": 22,
   "metadata": {},
   "outputs": [],
   "source": [
    "data_cut = data_cut[data_cut['price'] > 30]"
   ]
  },
  {
   "cell_type": "code",
   "execution_count": 23,
   "metadata": {},
   "outputs": [
    {
     "data": {
      "image/png": "[encoded data removed]",
      "text/plain": [
       "<Figure size 1000x600 with 1 Axes>"
      ]
     },
     "metadata": {},
     "output_type": "display_data"
    }
   ],
   "source": [
    "box_plot(data_cut['price'], 'Ящик с усами для цены (price)', 'Цена')"
   ]
  },
  {
   "cell_type": "code",
   "execution_count": 24,
   "metadata": {},
   "outputs": [
    {
     "data": {
      "text/plain": [
       "(668827, 5)"
      ]
     },
     "execution_count": 24,
     "metadata": {},
     "output_type": "execute_result"
    }
   ],
   "source": [
    "data_cut.shape"
   ]
  },
  {
   "cell_type": "markdown",
   "metadata": {},
   "source": [
    "#### b) Количество"
   ]
  },
  {
   "cell_type": "code",
   "execution_count": 25,
   "metadata": {},
   "outputs": [
    {
     "data": {
      "image/png": "[encoded data removed]",
      "text/plain": [
       "<Figure size 1000x600 with 1 Axes>"
      ]
     },
     "metadata": {},
     "output_type": "display_data"
    }
   ],
   "source": [
    "box_plot(data_cut['quantity'], 'Ящик с усами для цены (quantity)', 'Количество')"
   ]
  },
  {
   "cell_type": "code",
   "execution_count": 26,
   "metadata": {},
   "outputs": [],
   "source": [
    "# Вычисление IQR для определения выбросов\n",
    "Q1 = data_cut['quantity'].quantile(0.25)\n",
    "Q3 = data_cut['quantity'].quantile(0.75)\n",
    "IQR = Q3 - Q1\n",
    "\n",
    "# Определение границ для выбросов\n",
    "lower_bound = Q1 - 1.5 * IQR\n",
    "upper_bound = Q3 + 1.5 * IQR\n",
    "\n",
    "# Удаление выбросов\n",
    "data_cut = data_cut[(data_cut['quantity'] >= lower_bound) & (data_cut['quantity'] <= upper_bound)]"
   ]
  },
  {
   "cell_type": "code",
   "execution_count": 27,
   "metadata": {},
   "outputs": [
    {
     "data": {
      "image/png": "[encoded data removed]",
      "text/plain": [
       "<Figure size 1000x600 with 1 Axes>"
      ]
     },
     "metadata": {},
     "output_type": "display_data"
    }
   ],
   "source": [
    "box_plot(data_cut['quantity'], 'Ящик с усами для цены (quantity)', 'Количество')"
   ]
  },
  {
   "cell_type": "code",
   "execution_count": 28,
   "metadata": {},
   "outputs": [
    {
     "data": {
      "text/plain": [
       "(508354, 5)"
      ]
     },
     "execution_count": 28,
     "metadata": {},
     "output_type": "execute_result"
    }
   ],
   "source": [
    "data_cut.shape"
   ]
  },
  {
   "cell_type": "code",
   "execution_count": 29,
   "metadata": {},
   "outputs": [
    {
     "data": {
      "text/plain": [
       "(508354, 5)"
      ]
     },
     "execution_count": 29,
     "metadata": {},
     "output_type": "execute_result"
    }
   ],
   "source": [
    "(data_cut[data_cut['quantity'] == 1]).shape"
   ]
  },
  {
   "cell_type": "markdown",
   "metadata": {},
   "source": [
    "По одной покупают. Отрезались все нецелые значения, остались только единички."
   ]
  },
  {
   "cell_type": "markdown",
   "metadata": {},
   "source": [
    "### 6) Регионы"
   ]
  },
  {
   "cell_type": "markdown",
   "metadata": {},
   "source": [
    "Посмотрим на регионы:"
   ]
  },
  {
   "cell_type": "code",
   "execution_count": 30,
   "metadata": {},
   "outputs": [
    {
     "data": {
      "text/plain": [
       "array(['Москва', 'Липецкая область', 'Нижегородская область',\n",
       "       'Московская область', 'Ханты-Мансийский автономный округ',\n",
       "       'Самарская область', 'Омская область', 'Краснодарский край',\n",
       "       'Ульяновская область', 'Иркутская область', 'Камчатский край',\n",
       "       'Ростовская область', 'Воронежская область',\n",
       "       'Новосибирская область', 'Республика Башкортостан',\n",
       "       'Курская область', 'Саратовская область', 'Челябинская область',\n",
       "       'Санкт-Петербург', 'Архангельская область', 'Республика Марий Эл',\n",
       "       'Еврейская автономная область', 'Калининградская область',\n",
       "       'Амурская область', 'Ленинградская область', 'Брянская область',\n",
       "       'Республика Калмыкия', 'Владимирская область',\n",
       "       'Республика Саха (Якутия)', 'Ямало-Ненецкий автономный округ',\n",
       "       'Тверская область', 'Смоленская область', 'Республика Коми',\n",
       "       'Кировская область', 'Чувашская Республика', 'Пермский край',\n",
       "       'Красноярский край', 'Белгородская область', 'Костромская область',\n",
       "       'Свердловская область', 'Волгоградская область',\n",
       "       'Республика Татарстан', 'Калужская область', 'Тульская область',\n",
       "       'Орловская область', 'Пензенская область', 'Республика Крым',\n",
       "       'Республика Бурятия', 'Алтайский край', 'Томская область',\n",
       "       'Новгородская область', 'Приморский край', 'Оренбургская область',\n",
       "       'Ставропольский край', 'Кемеровская область', 'Псковская область',\n",
       "       'Удмуртская Республика', 'Курганская область', 'Рязанская область',\n",
       "       'Республика Тыва', 'Хабаровский край', 'Вологодская область',\n",
       "       'Республика Дагестан', 'Астраханская область', 'Республика Алтай',\n",
       "       'Республика Хакасия', 'Кабардино-Балкарская Республика',\n",
       "       'Тюменская область', 'Республика Карелия', 'Республика Мордовия',\n",
       "       'Ярославская область', 'Севастополь', 'Чукотский автономный округ',\n",
       "       'Забайкальский край', 'Сахалинская область', 'Ивановская область',\n",
       "       'Мурманская область', 'Тамбовская область', 'Магаданская область',\n",
       "       'Республика Адыгея', 'Ненецкий автономный округ',\n",
       "       'Республика Северная Осетия — Алания', 'Республика Ингушетия'],\n",
       "      dtype=object)"
      ]
     },
     "execution_count": 30,
     "metadata": {},
     "output_type": "execute_result"
    }
   ],
   "source": [
    "data_cut['region'].unique()"
   ]
  },
  {
   "cell_type": "code",
   "execution_count": 31,
   "metadata": {},
   "outputs": [
    {
     "data": {
      "text/plain": [
       "(83,)"
      ]
     },
     "execution_count": 31,
     "metadata": {},
     "output_type": "execute_result"
    }
   ],
   "source": [
    "(data_cut['region'].unique()).shape"
   ]
  },
  {
   "cell_type": "markdown",
   "metadata": {},
   "source": [
    "Много регионов. В задании сказано для каждого предсказать, но давайте сначала один какой-нибудь возьмем. Пусть будет Нижегородская область."
   ]
  },
  {
   "cell_type": "code",
   "execution_count": 32,
   "metadata": {},
   "outputs": [],
   "source": [
    "dataNN = data_cut[data_cut['region'] == 'Нижегородская область']"
   ]
  },
  {
   "cell_type": "code",
   "execution_count": 33,
   "metadata": {},
   "outputs": [
    {
     "data": {
      "text/html": [
       "<div>\n",
       "<style scoped>\n",
       "    .dataframe tbody tr th:only-of-type {\n",
       "        vertical-align: middle;\n",
       "    }\n",
       "\n",
       "    .dataframe tbody tr th {\n",
       "        vertical-align: top;\n",
       "    }\n",
       "\n",
       "    .dataframe thead th {\n",
       "        text-align: right;\n",
       "    }\n",
       "</style>\n",
       "<table border=\"1\" class=\"dataframe\">\n",
       "  <thead>\n",
       "    <tr style=\"text-align: right;\">\n",
       "      <th></th>\n",
       "      <th>Unnamed: 0</th>\n",
       "      <th>local_date</th>\n",
       "      <th>price</th>\n",
       "      <th>quantity</th>\n",
       "      <th>region</th>\n",
       "    </tr>\n",
       "  </thead>\n",
       "  <tbody>\n",
       "    <tr>\n",
       "      <th>30</th>\n",
       "      <td>30</td>\n",
       "      <td>2021-02-02 00:01:49</td>\n",
       "      <td>75.0</td>\n",
       "      <td>1.0</td>\n",
       "      <td>Нижегородская область</td>\n",
       "    </tr>\n",
       "    <tr>\n",
       "      <th>32</th>\n",
       "      <td>32</td>\n",
       "      <td>2021-02-02 00:01:49</td>\n",
       "      <td>67.0</td>\n",
       "      <td>1.0</td>\n",
       "      <td>Нижегородская область</td>\n",
       "    </tr>\n",
       "    <tr>\n",
       "      <th>77</th>\n",
       "      <td>77</td>\n",
       "      <td>2021-02-02 00:06:43</td>\n",
       "      <td>57.0</td>\n",
       "      <td>1.0</td>\n",
       "      <td>Нижегородская область</td>\n",
       "    </tr>\n",
       "    <tr>\n",
       "      <th>173</th>\n",
       "      <td>173</td>\n",
       "      <td>2021-02-02 00:16:27</td>\n",
       "      <td>45.0</td>\n",
       "      <td>1.0</td>\n",
       "      <td>Нижегородская область</td>\n",
       "    </tr>\n",
       "    <tr>\n",
       "      <th>266</th>\n",
       "      <td>266</td>\n",
       "      <td>2021-02-02 00:26:37</td>\n",
       "      <td>99.0</td>\n",
       "      <td>1.0</td>\n",
       "      <td>Нижегородская область</td>\n",
       "    </tr>\n",
       "    <tr>\n",
       "      <th>...</th>\n",
       "      <td>...</td>\n",
       "      <td>...</td>\n",
       "      <td>...</td>\n",
       "      <td>...</td>\n",
       "      <td>...</td>\n",
       "    </tr>\n",
       "    <tr>\n",
       "      <th>2245507</th>\n",
       "      <td>2245507</td>\n",
       "      <td>2021-02-01 23:20:22</td>\n",
       "      <td>80.0</td>\n",
       "      <td>1.0</td>\n",
       "      <td>Нижегородская область</td>\n",
       "    </tr>\n",
       "    <tr>\n",
       "      <th>2245508</th>\n",
       "      <td>2245508</td>\n",
       "      <td>2021-02-01 23:20:22</td>\n",
       "      <td>80.0</td>\n",
       "      <td>1.0</td>\n",
       "      <td>Нижегородская область</td>\n",
       "    </tr>\n",
       "    <tr>\n",
       "      <th>2245569</th>\n",
       "      <td>2245569</td>\n",
       "      <td>2021-02-01 23:23:40</td>\n",
       "      <td>57.0</td>\n",
       "      <td>1.0</td>\n",
       "      <td>Нижегородская область</td>\n",
       "    </tr>\n",
       "    <tr>\n",
       "      <th>2245703</th>\n",
       "      <td>2245703</td>\n",
       "      <td>2021-02-01 23:32:48</td>\n",
       "      <td>62.0</td>\n",
       "      <td>1.0</td>\n",
       "      <td>Нижегородская область</td>\n",
       "    </tr>\n",
       "    <tr>\n",
       "      <th>2245704</th>\n",
       "      <td>2245704</td>\n",
       "      <td>2021-02-01 23:32:48</td>\n",
       "      <td>57.0</td>\n",
       "      <td>1.0</td>\n",
       "      <td>Нижегородская область</td>\n",
       "    </tr>\n",
       "  </tbody>\n",
       "</table>\n",
       "<p>16037 rows × 5 columns</p>\n",
       "</div>"
      ],
      "text/plain": [
       "         Unnamed: 0           local_date  price  quantity  \\\n",
       "30               30  2021-02-02 00:01:49   75.0       1.0   \n",
       "32               32  2021-02-02 00:01:49   67.0       1.0   \n",
       "77               77  2021-02-02 00:06:43   57.0       1.0   \n",
       "173             173  2021-02-02 00:16:27   45.0       1.0   \n",
       "266             266  2021-02-02 00:26:37   99.0       1.0   \n",
       "...             ...                  ...    ...       ...   \n",
       "2245507     2245507  2021-02-01 23:20:22   80.0       1.0   \n",
       "2245508     2245508  2021-02-01 23:20:22   80.0       1.0   \n",
       "2245569     2245569  2021-02-01 23:23:40   57.0       1.0   \n",
       "2245703     2245703  2021-02-01 23:32:48   62.0       1.0   \n",
       "2245704     2245704  2021-02-01 23:32:48   57.0       1.0   \n",
       "\n",
       "                        region  \n",
       "30       Нижегородская область  \n",
       "32       Нижегородская область  \n",
       "77       Нижегородская область  \n",
       "173      Нижегородская область  \n",
       "266      Нижегородская область  \n",
       "...                        ...  \n",
       "2245507  Нижегородская область  \n",
       "2245508  Нижегородская область  \n",
       "2245569  Нижегородская область  \n",
       "2245703  Нижегородская область  \n",
       "2245704  Нижегородская область  \n",
       "\n",
       "[16037 rows x 5 columns]"
      ]
     },
     "execution_count": 33,
     "metadata": {},
     "output_type": "execute_result"
    }
   ],
   "source": [
    "dataNN"
   ]
  },
  {
   "cell_type": "markdown",
   "metadata": {},
   "source": [
    "### 7) Время"
   ]
  },
  {
   "cell_type": "markdown",
   "metadata": {},
   "source": [
    "Нам нужно суммировать по часам.        \n",
    "Преобразуем столбец 'local_date' к типу datetime."
   ]
  },
  {
   "cell_type": "code",
   "execution_count": 34,
   "metadata": {},
   "outputs": [
    {
     "name": "stderr",
     "output_type": "stream",
     "text": [
      "C:\\Users\\nicks\\AppData\\Local\\Temp\\ipykernel_12620\\190126512.py:1: SettingWithCopyWarning: \n",
      "A value is trying to be set on a copy of a slice from a DataFrame.\n",
      "Try using .loc[row_indexer,col_indexer] = value instead\n",
      "\n",
      "See the caveats in the documentation: https://pandas.pydata.org/pandas-docs/stable/user_guide/indexing.html#returning-a-view-versus-a-copy\n",
      "  dataNN['local_date'] = pd.to_datetime(dataNN['local_date'])\n"
     ]
    }
   ],
   "source": [
    "dataNN['local_date'] = pd.to_datetime(dataNN['local_date'])"
   ]
  },
  {
   "cell_type": "markdown",
   "metadata": {},
   "source": [
    "Проверяем на всякий случай:"
   ]
  },
  {
   "cell_type": "code",
   "execution_count": 35,
   "metadata": {},
   "outputs": [
    {
     "name": "stdout",
     "output_type": "stream",
     "text": [
      "<class 'pandas.core.frame.DataFrame'>\n",
      "Index: 16037 entries, 30 to 2245704\n",
      "Data columns (total 5 columns):\n",
      " #   Column      Non-Null Count  Dtype         \n",
      "---  ------      --------------  -----         \n",
      " 0   Unnamed: 0  16037 non-null  int64         \n",
      " 1   local_date  16037 non-null  datetime64[ns]\n",
      " 2   price       16037 non-null  float64       \n",
      " 3   quantity    16037 non-null  float64       \n",
      " 4   region      16037 non-null  object        \n",
      "dtypes: datetime64[ns](1), float64(2), int64(1), object(1)\n",
      "memory usage: 751.7+ KB\n"
     ]
    }
   ],
   "source": [
    "dataNN.info()"
   ]
  },
  {
   "cell_type": "markdown",
   "metadata": {},
   "source": [
    "Суммируем данные по часам:"
   ]
  },
  {
   "cell_type": "code",
   "execution_count": 36,
   "metadata": {},
   "outputs": [
    {
     "name": "stderr",
     "output_type": "stream",
     "text": [
      "C:\\Users\\nicks\\AppData\\Local\\Temp\\ipykernel_12620\\2203956842.py:2: FutureWarning: 'H' is deprecated and will be removed in a future version, please use 'h' instead.\n",
      "  dataNN = dataNN.groupby(pd.Grouper(key='local_date', freq='H')).agg({'price': 'sum', 'quantity': 'sum'}).reset_index()\n"
     ]
    }
   ],
   "source": [
    "# Группируем данные по часам и суммируем 'price' и 'quantity'\n",
    "dataNN = dataNN.groupby(pd.Grouper(key='local_date', freq='H')).agg({'price': 'sum', 'quantity': 'sum'}).reset_index()"
   ]
  },
  {
   "cell_type": "code",
   "execution_count": 37,
   "metadata": {},
   "outputs": [
    {
     "data": {
      "text/html": [
       "<div>\n",
       "<style scoped>\n",
       "    .dataframe tbody tr th:only-of-type {\n",
       "        vertical-align: middle;\n",
       "    }\n",
       "\n",
       "    .dataframe tbody tr th {\n",
       "        vertical-align: top;\n",
       "    }\n",
       "\n",
       "    .dataframe thead th {\n",
       "        text-align: right;\n",
       "    }\n",
       "</style>\n",
       "<table border=\"1\" class=\"dataframe\">\n",
       "  <thead>\n",
       "    <tr style=\"text-align: right;\">\n",
       "      <th></th>\n",
       "      <th>local_date</th>\n",
       "      <th>price</th>\n",
       "      <th>quantity</th>\n",
       "    </tr>\n",
       "  </thead>\n",
       "  <tbody>\n",
       "    <tr>\n",
       "      <th>0</th>\n",
       "      <td>2020-08-03 12:00:00</td>\n",
       "      <td>79.000000</td>\n",
       "      <td>1.0</td>\n",
       "    </tr>\n",
       "    <tr>\n",
       "      <th>1</th>\n",
       "      <td>2020-08-03 13:00:00</td>\n",
       "      <td>0.000000</td>\n",
       "      <td>0.0</td>\n",
       "    </tr>\n",
       "    <tr>\n",
       "      <th>2</th>\n",
       "      <td>2020-08-03 14:00:00</td>\n",
       "      <td>0.000000</td>\n",
       "      <td>0.0</td>\n",
       "    </tr>\n",
       "    <tr>\n",
       "      <th>3</th>\n",
       "      <td>2020-08-03 15:00:00</td>\n",
       "      <td>0.000000</td>\n",
       "      <td>0.0</td>\n",
       "    </tr>\n",
       "    <tr>\n",
       "      <th>4</th>\n",
       "      <td>2020-08-03 16:00:00</td>\n",
       "      <td>0.000000</td>\n",
       "      <td>0.0</td>\n",
       "    </tr>\n",
       "    <tr>\n",
       "      <th>...</th>\n",
       "      <td>...</td>\n",
       "      <td>...</td>\n",
       "      <td>...</td>\n",
       "    </tr>\n",
       "    <tr>\n",
       "      <th>4495</th>\n",
       "      <td>2021-02-06 19:00:00</td>\n",
       "      <td>3214.000000</td>\n",
       "      <td>50.0</td>\n",
       "    </tr>\n",
       "    <tr>\n",
       "      <th>4496</th>\n",
       "      <td>2021-02-06 20:00:00</td>\n",
       "      <td>3255.000000</td>\n",
       "      <td>50.0</td>\n",
       "    </tr>\n",
       "    <tr>\n",
       "      <th>4497</th>\n",
       "      <td>2021-02-06 21:00:00</td>\n",
       "      <td>2415.000000</td>\n",
       "      <td>36.0</td>\n",
       "    </tr>\n",
       "    <tr>\n",
       "      <th>4498</th>\n",
       "      <td>2021-02-06 22:00:00</td>\n",
       "      <td>1645.110001</td>\n",
       "      <td>24.0</td>\n",
       "    </tr>\n",
       "    <tr>\n",
       "      <th>4499</th>\n",
       "      <td>2021-02-06 23:00:00</td>\n",
       "      <td>883.000000</td>\n",
       "      <td>13.0</td>\n",
       "    </tr>\n",
       "  </tbody>\n",
       "</table>\n",
       "<p>4500 rows × 3 columns</p>\n",
       "</div>"
      ],
      "text/plain": [
       "              local_date        price  quantity\n",
       "0    2020-08-03 12:00:00    79.000000       1.0\n",
       "1    2020-08-03 13:00:00     0.000000       0.0\n",
       "2    2020-08-03 14:00:00     0.000000       0.0\n",
       "3    2020-08-03 15:00:00     0.000000       0.0\n",
       "4    2020-08-03 16:00:00     0.000000       0.0\n",
       "...                  ...          ...       ...\n",
       "4495 2021-02-06 19:00:00  3214.000000      50.0\n",
       "4496 2021-02-06 20:00:00  3255.000000      50.0\n",
       "4497 2021-02-06 21:00:00  2415.000000      36.0\n",
       "4498 2021-02-06 22:00:00  1645.110001      24.0\n",
       "4499 2021-02-06 23:00:00   883.000000      13.0\n",
       "\n",
       "[4500 rows x 3 columns]"
      ]
     },
     "execution_count": 37,
     "metadata": {},
     "output_type": "execute_result"
    }
   ],
   "source": [
    "dataNN"
   ]
  },
  {
   "cell_type": "code",
   "execution_count": 38,
   "metadata": {},
   "outputs": [],
   "source": [
    "def plot(x, y):\n",
    "    # Построение графика\n",
    "    plt.figure(figsize=(12, 6))  # Устанавливаем размер графика\n",
    "    plt.scatter(x, y, color='red', s=20)  # Используем scatter для точек\n",
    "\n",
    "    # Настройка графика\n",
    "    plt.title('Количество товаров по времени')\n",
    "    plt.xlabel('Время')\n",
    "    plt.ylabel('Количество')\n",
    "    plt.xticks(rotation=45)  # Поворачиваем метки по оси X для лучшей читаемости\n",
    "    plt.grid(True)  # Добавляем сетку для удобства восприятия\n",
    "\n",
    "    # Показать график\n",
    "    plt.tight_layout()  # Автоматическая подгонка элементов графика\n",
    "    plt.show()"
   ]
  },
  {
   "cell_type": "code",
   "execution_count": 39,
   "metadata": {},
   "outputs": [
    {
     "data": {
      "image/png": "[encoded data removed]",
      "text/plain": [
       "<Figure size 1200x600 with 1 Axes>"
      ]
     },
     "metadata": {},
     "output_type": "display_data"
    }
   ],
   "source": [
    "plot(dataNN['local_date'], dataNN['quantity'])"
   ]
  },
  {
   "cell_type": "markdown",
   "metadata": {},
   "source": [
    "Ну вот что здесь?     \n",
    "Мы видим, все ровно, а движения начанаются в конце. Я не знаю, почему так, почему вдруг началось это движение в феврале 21 года, а точнее, почему его не было раньше. Я думаю, просто плохие данные, как бы то ни было, нам имеет смысл смотреть только на конец графика. "
   ]
  },
  {
   "cell_type": "code",
   "execution_count": 40,
   "metadata": {},
   "outputs": [],
   "source": [
    "# Фильтруем данные, оставляя только записи с 2021 года и позже\n",
    "dataNN = dataNN[dataNN['local_date'] >= '2021-01-01']"
   ]
  },
  {
   "cell_type": "code",
   "execution_count": 41,
   "metadata": {},
   "outputs": [
    {
     "data": {
      "image/png": "[encoded data removed]",
      "text/plain": [
       "<Figure size 1200x600 with 1 Axes>"
      ]
     },
     "metadata": {},
     "output_type": "display_data"
    }
   ],
   "source": [
    "plot(dataNN['local_date'], dataNN['quantity'])"
   ]
  },
  {
   "cell_type": "markdown",
   "metadata": {},
   "source": [
    "Отрежем ещё."
   ]
  },
  {
   "cell_type": "code",
   "execution_count": 42,
   "metadata": {},
   "outputs": [],
   "source": [
    "# Фильтруем данные, оставляя только записи с 1 февраля 2021 года и позже\n",
    "dataNN = dataNN[dataNN['local_date'] >= '2021-02-01']"
   ]
  },
  {
   "cell_type": "code",
   "execution_count": 43,
   "metadata": {},
   "outputs": [
    {
     "data": {
      "image/png": "[encoded data removed]",
      "text/plain": [
       "<Figure size 1200x600 with 1 Axes>"
      ]
     },
     "metadata": {},
     "output_type": "display_data"
    }
   ],
   "source": [
    "plot(dataNN['local_date'], dataNN['quantity'])"
   ]
  },
  {
   "cell_type": "markdown",
   "metadata": {},
   "source": [
    "Отлично, вот видим периодический график."
   ]
  },
  {
   "cell_type": "markdown",
   "metadata": {},
   "source": [
    "Почему продажи полдетают 4 февраля 2021 года? Это деффект данных? Может быть это воскресенье? Или это День колы?         \n",
    "День колы это 8 мая. 4 февраля 2021 года - это четверг. А вот нам надо предсказать 7-е число, воскресенье, это плохо, потому, что мы видим только будни и субботу, но в субботу продажи не взлетают. Тем не менее, у нас есть только 6 дней. Давайте посмотрим другие регионы. "
   ]
  },
  {
   "cell_type": "code",
   "execution_count": 44,
   "metadata": {},
   "outputs": [],
   "source": [
    "dataMSK = data[data['region'] == 'Москва']"
   ]
  },
  {
   "cell_type": "code",
   "execution_count": 45,
   "metadata": {},
   "outputs": [
    {
     "name": "stderr",
     "output_type": "stream",
     "text": [
      "C:\\Users\\nicks\\AppData\\Local\\Temp\\ipykernel_12620\\2418011266.py:1: SettingWithCopyWarning: \n",
      "A value is trying to be set on a copy of a slice from a DataFrame.\n",
      "Try using .loc[row_indexer,col_indexer] = value instead\n",
      "\n",
      "See the caveats in the documentation: https://pandas.pydata.org/pandas-docs/stable/user_guide/indexing.html#returning-a-view-versus-a-copy\n",
      "  dataMSK['local_date'] = pd.to_datetime(dataMSK['local_date'])\n"
     ]
    }
   ],
   "source": [
    "dataMSK['local_date'] = pd.to_datetime(dataMSK['local_date'])"
   ]
  },
  {
   "cell_type": "code",
   "execution_count": 46,
   "metadata": {},
   "outputs": [
    {
     "name": "stderr",
     "output_type": "stream",
     "text": [
      "C:\\Users\\nicks\\AppData\\Local\\Temp\\ipykernel_12620\\1759788291.py:2: FutureWarning: 'H' is deprecated and will be removed in a future version, please use 'h' instead.\n",
      "  dataMSK = dataMSK.groupby(pd.Grouper(key='local_date', freq='H')).agg({'price': 'sum', 'quantity': 'sum'}).reset_index()\n"
     ]
    }
   ],
   "source": [
    "# Группируем данные по часам и суммируем 'price' и 'quantity'\n",
    "dataMSK = dataMSK.groupby(pd.Grouper(key='local_date', freq='H')).agg({'price': 'sum', 'quantity': 'sum'}).reset_index()"
   ]
  },
  {
   "cell_type": "code",
   "execution_count": 47,
   "metadata": {},
   "outputs": [
    {
     "data": {
      "image/png": "[encoded data removed]",
      "text/plain": [
       "<Figure size 1200x600 with 1 Axes>"
      ]
     },
     "metadata": {},
     "output_type": "display_data"
    }
   ],
   "source": [
    "plot(dataMSK['local_date'], dataMSK['quantity'])"
   ]
  },
  {
   "cell_type": "markdown",
   "metadata": {},
   "source": [
    "Та же картина."
   ]
  },
  {
   "cell_type": "code",
   "execution_count": 48,
   "metadata": {},
   "outputs": [],
   "source": [
    "# Фильтруем данные, оставляя только записи с 1 февраля 2021 года и позже\n",
    "dataMSK = dataMSK[dataMSK['local_date'] >= '2021-02-01']"
   ]
  },
  {
   "cell_type": "code",
   "execution_count": 49,
   "metadata": {},
   "outputs": [
    {
     "data": {
      "image/png": "[encoded data removed]",
      "text/plain": [
       "<Figure size 1200x600 with 1 Axes>"
      ]
     },
     "metadata": {},
     "output_type": "display_data"
    }
   ],
   "source": [
    "plot(dataMSK['local_date'], dataMSK['quantity'])"
   ]
  },
  {
   "cell_type": "markdown",
   "metadata": {},
   "source": [
    "Хорошо, раз такое дело, давайте по-другому отберем данные. Давайте так, не будем вообще смотреть на цену, все равно мы ее не используем, но, может быть, там продажи будут по-другому выглядеть.           \n",
    "Разберемся с продажами, сначала удалим все нецелые:"
   ]
  },
  {
   "cell_type": "code",
   "execution_count": 50,
   "metadata": {},
   "outputs": [],
   "source": [
    "data = data[data['quantity'] % 1 == 0]"
   ]
  },
  {
   "cell_type": "code",
   "execution_count": 51,
   "metadata": {},
   "outputs": [
    {
     "data": {
      "text/html": [
       "<div>\n",
       "<style scoped>\n",
       "    .dataframe tbody tr th:only-of-type {\n",
       "        vertical-align: middle;\n",
       "    }\n",
       "\n",
       "    .dataframe tbody tr th {\n",
       "        vertical-align: top;\n",
       "    }\n",
       "\n",
       "    .dataframe thead th {\n",
       "        text-align: right;\n",
       "    }\n",
       "</style>\n",
       "<table border=\"1\" class=\"dataframe\">\n",
       "  <thead>\n",
       "    <tr style=\"text-align: right;\">\n",
       "      <th></th>\n",
       "      <th>Unnamed: 0</th>\n",
       "      <th>local_date</th>\n",
       "      <th>price</th>\n",
       "      <th>quantity</th>\n",
       "      <th>region</th>\n",
       "    </tr>\n",
       "  </thead>\n",
       "  <tbody>\n",
       "    <tr>\n",
       "      <th>0</th>\n",
       "      <td>0</td>\n",
       "      <td>2021-02-02 00:00:01</td>\n",
       "      <td>133.0</td>\n",
       "      <td>1.0</td>\n",
       "      <td>Нижегородская область</td>\n",
       "    </tr>\n",
       "    <tr>\n",
       "      <th>1</th>\n",
       "      <td>1</td>\n",
       "      <td>2021-02-02 00:00:01</td>\n",
       "      <td>100.0</td>\n",
       "      <td>1.0</td>\n",
       "      <td>Нижегородская область</td>\n",
       "    </tr>\n",
       "    <tr>\n",
       "      <th>2</th>\n",
       "      <td>2</td>\n",
       "      <td>2021-02-02 00:00:04</td>\n",
       "      <td>50.0</td>\n",
       "      <td>1.0</td>\n",
       "      <td>Москва</td>\n",
       "    </tr>\n",
       "    <tr>\n",
       "      <th>3</th>\n",
       "      <td>3</td>\n",
       "      <td>2021-02-02 01:00:11</td>\n",
       "      <td>29.0</td>\n",
       "      <td>1.0</td>\n",
       "      <td>Ульяновская область</td>\n",
       "    </tr>\n",
       "    <tr>\n",
       "      <th>4</th>\n",
       "      <td>4</td>\n",
       "      <td>2021-02-02 00:00:17</td>\n",
       "      <td>250.0</td>\n",
       "      <td>1.0</td>\n",
       "      <td>Москва</td>\n",
       "    </tr>\n",
       "    <tr>\n",
       "      <th>...</th>\n",
       "      <td>...</td>\n",
       "      <td>...</td>\n",
       "      <td>...</td>\n",
       "      <td>...</td>\n",
       "      <td>...</td>\n",
       "    </tr>\n",
       "    <tr>\n",
       "      <th>2246087</th>\n",
       "      <td>2246087</td>\n",
       "      <td>2021-02-01 23:59:33</td>\n",
       "      <td>168.0</td>\n",
       "      <td>1.0</td>\n",
       "      <td>Республика Марий Эл</td>\n",
       "    </tr>\n",
       "    <tr>\n",
       "      <th>2246088</th>\n",
       "      <td>2246088</td>\n",
       "      <td>2021-02-01 23:59:35</td>\n",
       "      <td>165.0</td>\n",
       "      <td>1.0</td>\n",
       "      <td>Воронежская область</td>\n",
       "    </tr>\n",
       "    <tr>\n",
       "      <th>2246089</th>\n",
       "      <td>2246089</td>\n",
       "      <td>2021-02-01 23:59:35</td>\n",
       "      <td>105.0</td>\n",
       "      <td>1.0</td>\n",
       "      <td>Воронежская область</td>\n",
       "    </tr>\n",
       "    <tr>\n",
       "      <th>2246091</th>\n",
       "      <td>2246091</td>\n",
       "      <td>2021-02-01 23:59:42</td>\n",
       "      <td>135.0</td>\n",
       "      <td>1.0</td>\n",
       "      <td>Москва</td>\n",
       "    </tr>\n",
       "    <tr>\n",
       "      <th>2246093</th>\n",
       "      <td>2246093</td>\n",
       "      <td>2021-02-01 23:59:42</td>\n",
       "      <td>79.0</td>\n",
       "      <td>1.0</td>\n",
       "      <td>Москва</td>\n",
       "    </tr>\n",
       "  </tbody>\n",
       "</table>\n",
       "<p>1989698 rows × 5 columns</p>\n",
       "</div>"
      ],
      "text/plain": [
       "         Unnamed: 0           local_date  price  quantity  \\\n",
       "0                 0  2021-02-02 00:00:01  133.0       1.0   \n",
       "1                 1  2021-02-02 00:00:01  100.0       1.0   \n",
       "2                 2  2021-02-02 00:00:04   50.0       1.0   \n",
       "3                 3  2021-02-02 01:00:11   29.0       1.0   \n",
       "4                 4  2021-02-02 00:00:17  250.0       1.0   \n",
       "...             ...                  ...    ...       ...   \n",
       "2246087     2246087  2021-02-01 23:59:33  168.0       1.0   \n",
       "2246088     2246088  2021-02-01 23:59:35  165.0       1.0   \n",
       "2246089     2246089  2021-02-01 23:59:35  105.0       1.0   \n",
       "2246091     2246091  2021-02-01 23:59:42  135.0       1.0   \n",
       "2246093     2246093  2021-02-01 23:59:42   79.0       1.0   \n",
       "\n",
       "                        region  \n",
       "0        Нижегородская область  \n",
       "1        Нижегородская область  \n",
       "2                       Москва  \n",
       "3          Ульяновская область  \n",
       "4                       Москва  \n",
       "...                        ...  \n",
       "2246087    Республика Марий Эл  \n",
       "2246088    Воронежская область  \n",
       "2246089    Воронежская область  \n",
       "2246091                 Москва  \n",
       "2246093                 Москва  \n",
       "\n",
       "[1989698 rows x 5 columns]"
      ]
     },
     "execution_count": 51,
     "metadata": {},
     "output_type": "execute_result"
    }
   ],
   "source": [
    "data"
   ]
  },
  {
   "cell_type": "markdown",
   "metadata": {},
   "source": [
    "Посмотрим вот что, сколько банок можно купить за раз в магазине (я так понимаю, покупок оптом в таблице нет)? Ну 0 нельзя купить, можно 1, 2, 3... Ну можно 10, ну 20, ну 30. Ну не больше. "
   ]
  },
  {
   "cell_type": "code",
   "execution_count": 52,
   "metadata": {},
   "outputs": [],
   "source": [
    "data = data[data['quantity'] > 0]"
   ]
  },
  {
   "cell_type": "code",
   "execution_count": 53,
   "metadata": {},
   "outputs": [],
   "source": [
    "data = data[data['quantity'] <= 30]"
   ]
  },
  {
   "cell_type": "code",
   "execution_count": 54,
   "metadata": {},
   "outputs": [
    {
     "data": {
      "text/html": [
       "<div>\n",
       "<style scoped>\n",
       "    .dataframe tbody tr th:only-of-type {\n",
       "        vertical-align: middle;\n",
       "    }\n",
       "\n",
       "    .dataframe tbody tr th {\n",
       "        vertical-align: top;\n",
       "    }\n",
       "\n",
       "    .dataframe thead th {\n",
       "        text-align: right;\n",
       "    }\n",
       "</style>\n",
       "<table border=\"1\" class=\"dataframe\">\n",
       "  <thead>\n",
       "    <tr style=\"text-align: right;\">\n",
       "      <th></th>\n",
       "      <th>Unnamed: 0</th>\n",
       "      <th>local_date</th>\n",
       "      <th>price</th>\n",
       "      <th>quantity</th>\n",
       "      <th>region</th>\n",
       "    </tr>\n",
       "  </thead>\n",
       "  <tbody>\n",
       "    <tr>\n",
       "      <th>0</th>\n",
       "      <td>0</td>\n",
       "      <td>2021-02-02 00:00:01</td>\n",
       "      <td>133.0</td>\n",
       "      <td>1.0</td>\n",
       "      <td>Нижегородская область</td>\n",
       "    </tr>\n",
       "    <tr>\n",
       "      <th>1</th>\n",
       "      <td>1</td>\n",
       "      <td>2021-02-02 00:00:01</td>\n",
       "      <td>100.0</td>\n",
       "      <td>1.0</td>\n",
       "      <td>Нижегородская область</td>\n",
       "    </tr>\n",
       "    <tr>\n",
       "      <th>2</th>\n",
       "      <td>2</td>\n",
       "      <td>2021-02-02 00:00:04</td>\n",
       "      <td>50.0</td>\n",
       "      <td>1.0</td>\n",
       "      <td>Москва</td>\n",
       "    </tr>\n",
       "    <tr>\n",
       "      <th>3</th>\n",
       "      <td>3</td>\n",
       "      <td>2021-02-02 01:00:11</td>\n",
       "      <td>29.0</td>\n",
       "      <td>1.0</td>\n",
       "      <td>Ульяновская область</td>\n",
       "    </tr>\n",
       "    <tr>\n",
       "      <th>4</th>\n",
       "      <td>4</td>\n",
       "      <td>2021-02-02 00:00:17</td>\n",
       "      <td>250.0</td>\n",
       "      <td>1.0</td>\n",
       "      <td>Москва</td>\n",
       "    </tr>\n",
       "    <tr>\n",
       "      <th>...</th>\n",
       "      <td>...</td>\n",
       "      <td>...</td>\n",
       "      <td>...</td>\n",
       "      <td>...</td>\n",
       "      <td>...</td>\n",
       "    </tr>\n",
       "    <tr>\n",
       "      <th>2246087</th>\n",
       "      <td>2246087</td>\n",
       "      <td>2021-02-01 23:59:33</td>\n",
       "      <td>168.0</td>\n",
       "      <td>1.0</td>\n",
       "      <td>Республика Марий Эл</td>\n",
       "    </tr>\n",
       "    <tr>\n",
       "      <th>2246088</th>\n",
       "      <td>2246088</td>\n",
       "      <td>2021-02-01 23:59:35</td>\n",
       "      <td>165.0</td>\n",
       "      <td>1.0</td>\n",
       "      <td>Воронежская область</td>\n",
       "    </tr>\n",
       "    <tr>\n",
       "      <th>2246089</th>\n",
       "      <td>2246089</td>\n",
       "      <td>2021-02-01 23:59:35</td>\n",
       "      <td>105.0</td>\n",
       "      <td>1.0</td>\n",
       "      <td>Воронежская область</td>\n",
       "    </tr>\n",
       "    <tr>\n",
       "      <th>2246091</th>\n",
       "      <td>2246091</td>\n",
       "      <td>2021-02-01 23:59:42</td>\n",
       "      <td>135.0</td>\n",
       "      <td>1.0</td>\n",
       "      <td>Москва</td>\n",
       "    </tr>\n",
       "    <tr>\n",
       "      <th>2246093</th>\n",
       "      <td>2246093</td>\n",
       "      <td>2021-02-01 23:59:42</td>\n",
       "      <td>79.0</td>\n",
       "      <td>1.0</td>\n",
       "      <td>Москва</td>\n",
       "    </tr>\n",
       "  </tbody>\n",
       "</table>\n",
       "<p>1977110 rows × 5 columns</p>\n",
       "</div>"
      ],
      "text/plain": [
       "         Unnamed: 0           local_date  price  quantity  \\\n",
       "0                 0  2021-02-02 00:00:01  133.0       1.0   \n",
       "1                 1  2021-02-02 00:00:01  100.0       1.0   \n",
       "2                 2  2021-02-02 00:00:04   50.0       1.0   \n",
       "3                 3  2021-02-02 01:00:11   29.0       1.0   \n",
       "4                 4  2021-02-02 00:00:17  250.0       1.0   \n",
       "...             ...                  ...    ...       ...   \n",
       "2246087     2246087  2021-02-01 23:59:33  168.0       1.0   \n",
       "2246088     2246088  2021-02-01 23:59:35  165.0       1.0   \n",
       "2246089     2246089  2021-02-01 23:59:35  105.0       1.0   \n",
       "2246091     2246091  2021-02-01 23:59:42  135.0       1.0   \n",
       "2246093     2246093  2021-02-01 23:59:42   79.0       1.0   \n",
       "\n",
       "                        region  \n",
       "0        Нижегородская область  \n",
       "1        Нижегородская область  \n",
       "2                       Москва  \n",
       "3          Ульяновская область  \n",
       "4                       Москва  \n",
       "...                        ...  \n",
       "2246087    Республика Марий Эл  \n",
       "2246088    Воронежская область  \n",
       "2246089    Воронежская область  \n",
       "2246091                 Москва  \n",
       "2246093                 Москва  \n",
       "\n",
       "[1977110 rows x 5 columns]"
      ]
     },
     "execution_count": 54,
     "metadata": {},
     "output_type": "execute_result"
    }
   ],
   "source": [
    "data"
   ]
  },
  {
   "cell_type": "code",
   "execution_count": 55,
   "metadata": {},
   "outputs": [
    {
     "data": {
      "text/plain": [
       "(1636592, 5)"
      ]
     },
     "execution_count": 55,
     "metadata": {},
     "output_type": "execute_result"
    }
   ],
   "source": [
    "(data[data['quantity'] == 1]).shape"
   ]
  },
  {
   "cell_type": "code",
   "execution_count": 56,
   "metadata": {},
   "outputs": [
    {
     "data": {
      "text/plain": [
       "array([ 1.,  7.,  2.,  3.,  5., 13.,  4.,  6., 20.,  8., 15., 10., 24.,\n",
       "       22., 21., 12., 25., 11., 14., 30., 18.,  9., 27., 17., 26., 19.,\n",
       "       28., 16., 29., 23.])"
      ]
     },
     "execution_count": 56,
     "metadata": {},
     "output_type": "execute_result"
    }
   ],
   "source": [
    "data['quantity'].unique()"
   ]
  },
  {
   "cell_type": "markdown",
   "metadata": {},
   "source": [
    "Хорошо."
   ]
  },
  {
   "cell_type": "markdown",
   "metadata": {},
   "source": [
    "Теперь берём один регион, группируем по часам."
   ]
  },
  {
   "cell_type": "code",
   "execution_count": 57,
   "metadata": {},
   "outputs": [],
   "source": [
    "dataNN0 = data[data['region'] == 'Нижегородская область']"
   ]
  },
  {
   "cell_type": "code",
   "execution_count": 58,
   "metadata": {},
   "outputs": [
    {
     "name": "stderr",
     "output_type": "stream",
     "text": [
      "C:\\Users\\nicks\\AppData\\Local\\Temp\\ipykernel_12620\\860801212.py:1: SettingWithCopyWarning: \n",
      "A value is trying to be set on a copy of a slice from a DataFrame.\n",
      "Try using .loc[row_indexer,col_indexer] = value instead\n",
      "\n",
      "See the caveats in the documentation: https://pandas.pydata.org/pandas-docs/stable/user_guide/indexing.html#returning-a-view-versus-a-copy\n",
      "  dataNN0['local_date'] = pd.to_datetime(dataNN0['local_date'])\n"
     ]
    }
   ],
   "source": [
    "dataNN0['local_date'] = pd.to_datetime(dataNN0['local_date'])"
   ]
  },
  {
   "cell_type": "code",
   "execution_count": 59,
   "metadata": {},
   "outputs": [
    {
     "name": "stderr",
     "output_type": "stream",
     "text": [
      "C:\\Users\\nicks\\AppData\\Local\\Temp\\ipykernel_12620\\274256661.py:2: FutureWarning: 'H' is deprecated and will be removed in a future version, please use 'h' instead.\n",
      "  dataNN0 = dataNN0.groupby(pd.Grouper(key='local_date', freq='H')).agg({'price': 'sum', 'quantity': 'sum'}).reset_index()\n"
     ]
    }
   ],
   "source": [
    "# Группируем данные по часам и суммируем 'price' и 'quantity'\n",
    "dataNN0 = dataNN0.groupby(pd.Grouper(key='local_date', freq='H')).agg({'price': 'sum', 'quantity': 'sum'}).reset_index()"
   ]
  },
  {
   "cell_type": "code",
   "execution_count": 60,
   "metadata": {},
   "outputs": [
    {
     "data": {
      "image/png": "[encoded data removed]",
      "text/plain": [
       "<Figure size 1200x600 with 1 Axes>"
      ]
     },
     "metadata": {},
     "output_type": "display_data"
    }
   ],
   "source": [
    "plot(dataNN0['local_date'], dataNN0['quantity'])"
   ]
  },
  {
   "cell_type": "markdown",
   "metadata": {},
   "source": [
    "Тоже самое, просто мы не выкинули данные с неадекватной ценой и оставили покупки, где было от 1 до 30 банок."
   ]
  },
  {
   "cell_type": "code",
   "execution_count": 61,
   "metadata": {},
   "outputs": [
    {
     "data": {
      "image/png": "[encoded data removed]",
      "text/plain": [
       "<Figure size 1200x600 with 1 Axes>"
      ]
     },
     "metadata": {},
     "output_type": "display_data"
    }
   ],
   "source": [
    "# Фильтруем данные, оставляя только записи с 1 февраля 2021 года и позже\n",
    "dataNN0 = dataNN0[dataNN0['local_date'] >= '2021-02-01']\n",
    "\n",
    "plot(dataNN0['local_date'], dataNN0['quantity'])"
   ]
  },
  {
   "cell_type": "markdown",
   "metadata": {},
   "source": [
    "Всё тоже, только больше. Понять, как нам правильно обрезать данные, можно только доподлинно узнав, каков средний обьём продаж в день в Нижегородской области. Так мы поймем, выкидывать продажи с неадекваьной ценой или нет."
   ]
  },
  {
   "cell_type": "code",
   "execution_count": 62,
   "metadata": {},
   "outputs": [
    {
     "data": {
      "text/html": [
       "<div>\n",
       "<style scoped>\n",
       "    .dataframe tbody tr th:only-of-type {\n",
       "        vertical-align: middle;\n",
       "    }\n",
       "\n",
       "    .dataframe tbody tr th {\n",
       "        vertical-align: top;\n",
       "    }\n",
       "\n",
       "    .dataframe thead th {\n",
       "        text-align: right;\n",
       "    }\n",
       "</style>\n",
       "<table border=\"1\" class=\"dataframe\">\n",
       "  <thead>\n",
       "    <tr style=\"text-align: right;\">\n",
       "      <th></th>\n",
       "      <th>local_date</th>\n",
       "      <th>price</th>\n",
       "      <th>quantity</th>\n",
       "    </tr>\n",
       "  </thead>\n",
       "  <tbody>\n",
       "    <tr>\n",
       "      <th>4359</th>\n",
       "      <td>2021-02-01 00:00:00</td>\n",
       "      <td>5441.000000</td>\n",
       "      <td>53.0</td>\n",
       "    </tr>\n",
       "    <tr>\n",
       "      <th>4360</th>\n",
       "      <td>2021-02-01 01:00:00</td>\n",
       "      <td>3826.000000</td>\n",
       "      <td>48.0</td>\n",
       "    </tr>\n",
       "    <tr>\n",
       "      <th>4361</th>\n",
       "      <td>2021-02-01 02:00:00</td>\n",
       "      <td>1502.000000</td>\n",
       "      <td>13.0</td>\n",
       "    </tr>\n",
       "    <tr>\n",
       "      <th>4362</th>\n",
       "      <td>2021-02-01 03:00:00</td>\n",
       "      <td>943.000000</td>\n",
       "      <td>3.0</td>\n",
       "    </tr>\n",
       "    <tr>\n",
       "      <th>4363</th>\n",
       "      <td>2021-02-01 04:00:00</td>\n",
       "      <td>1256.000000</td>\n",
       "      <td>15.0</td>\n",
       "    </tr>\n",
       "    <tr>\n",
       "      <th>...</th>\n",
       "      <td>...</td>\n",
       "      <td>...</td>\n",
       "      <td>...</td>\n",
       "    </tr>\n",
       "    <tr>\n",
       "      <th>4498</th>\n",
       "      <td>2021-02-06 19:00:00</td>\n",
       "      <td>57752.320007</td>\n",
       "      <td>367.0</td>\n",
       "    </tr>\n",
       "    <tr>\n",
       "      <th>4499</th>\n",
       "      <td>2021-02-06 20:00:00</td>\n",
       "      <td>73997.550003</td>\n",
       "      <td>332.0</td>\n",
       "    </tr>\n",
       "    <tr>\n",
       "      <th>4500</th>\n",
       "      <td>2021-02-06 21:00:00</td>\n",
       "      <td>21597.010000</td>\n",
       "      <td>144.0</td>\n",
       "    </tr>\n",
       "    <tr>\n",
       "      <th>4501</th>\n",
       "      <td>2021-02-06 22:00:00</td>\n",
       "      <td>9502.110001</td>\n",
       "      <td>114.0</td>\n",
       "    </tr>\n",
       "    <tr>\n",
       "      <th>4502</th>\n",
       "      <td>2021-02-06 23:00:00</td>\n",
       "      <td>13888.199990</td>\n",
       "      <td>91.0</td>\n",
       "    </tr>\n",
       "  </tbody>\n",
       "</table>\n",
       "<p>144 rows × 3 columns</p>\n",
       "</div>"
      ],
      "text/plain": [
       "              local_date         price  quantity\n",
       "4359 2021-02-01 00:00:00   5441.000000      53.0\n",
       "4360 2021-02-01 01:00:00   3826.000000      48.0\n",
       "4361 2021-02-01 02:00:00   1502.000000      13.0\n",
       "4362 2021-02-01 03:00:00    943.000000       3.0\n",
       "4363 2021-02-01 04:00:00   1256.000000      15.0\n",
       "...                  ...           ...       ...\n",
       "4498 2021-02-06 19:00:00  57752.320007     367.0\n",
       "4499 2021-02-06 20:00:00  73997.550003     332.0\n",
       "4500 2021-02-06 21:00:00  21597.010000     144.0\n",
       "4501 2021-02-06 22:00:00   9502.110001     114.0\n",
       "4502 2021-02-06 23:00:00  13888.199990      91.0\n",
       "\n",
       "[144 rows x 3 columns]"
      ]
     },
     "execution_count": 62,
     "metadata": {},
     "output_type": "execute_result"
    }
   ],
   "source": [
    "dataNN0"
   ]
  },
  {
   "cell_type": "code",
   "execution_count": 82,
   "metadata": {},
   "outputs": [
    {
     "data": {
      "text/html": [
       "<div>\n",
       "<style scoped>\n",
       "    .dataframe tbody tr th:only-of-type {\n",
       "        vertical-align: middle;\n",
       "    }\n",
       "\n",
       "    .dataframe tbody tr th {\n",
       "        vertical-align: top;\n",
       "    }\n",
       "\n",
       "    .dataframe thead th {\n",
       "        text-align: right;\n",
       "    }\n",
       "</style>\n",
       "<table border=\"1\" class=\"dataframe\">\n",
       "  <thead>\n",
       "    <tr style=\"text-align: right;\">\n",
       "      <th></th>\n",
       "      <th>local_date</th>\n",
       "      <th>price</th>\n",
       "      <th>quantity</th>\n",
       "    </tr>\n",
       "  </thead>\n",
       "  <tbody>\n",
       "    <tr>\n",
       "      <th>4479</th>\n",
       "      <td>2021-02-06 00:00:00</td>\n",
       "      <td>15847.969998</td>\n",
       "      <td>137.0</td>\n",
       "    </tr>\n",
       "    <tr>\n",
       "      <th>4480</th>\n",
       "      <td>2021-02-06 01:00:00</td>\n",
       "      <td>7598.000000</td>\n",
       "      <td>65.0</td>\n",
       "    </tr>\n",
       "    <tr>\n",
       "      <th>4481</th>\n",
       "      <td>2021-02-06 02:00:00</td>\n",
       "      <td>5593.000000</td>\n",
       "      <td>44.0</td>\n",
       "    </tr>\n",
       "    <tr>\n",
       "      <th>4482</th>\n",
       "      <td>2021-02-06 03:00:00</td>\n",
       "      <td>9003.000000</td>\n",
       "      <td>56.0</td>\n",
       "    </tr>\n",
       "    <tr>\n",
       "      <th>4483</th>\n",
       "      <td>2021-02-06 04:00:00</td>\n",
       "      <td>1622.000000</td>\n",
       "      <td>13.0</td>\n",
       "    </tr>\n",
       "    <tr>\n",
       "      <th>4484</th>\n",
       "      <td>2021-02-06 05:00:00</td>\n",
       "      <td>2621.000000</td>\n",
       "      <td>19.0</td>\n",
       "    </tr>\n",
       "    <tr>\n",
       "      <th>4485</th>\n",
       "      <td>2021-02-06 06:00:00</td>\n",
       "      <td>7089.000000</td>\n",
       "      <td>43.0</td>\n",
       "    </tr>\n",
       "    <tr>\n",
       "      <th>4486</th>\n",
       "      <td>2021-02-06 07:00:00</td>\n",
       "      <td>6900.739998</td>\n",
       "      <td>101.0</td>\n",
       "    </tr>\n",
       "    <tr>\n",
       "      <th>4487</th>\n",
       "      <td>2021-02-06 08:00:00</td>\n",
       "      <td>64136.379968</td>\n",
       "      <td>355.0</td>\n",
       "    </tr>\n",
       "    <tr>\n",
       "      <th>4488</th>\n",
       "      <td>2021-02-06 09:00:00</td>\n",
       "      <td>95312.539996</td>\n",
       "      <td>631.0</td>\n",
       "    </tr>\n",
       "    <tr>\n",
       "      <th>4489</th>\n",
       "      <td>2021-02-06 10:00:00</td>\n",
       "      <td>175948.229946</td>\n",
       "      <td>871.0</td>\n",
       "    </tr>\n",
       "    <tr>\n",
       "      <th>4490</th>\n",
       "      <td>2021-02-06 11:00:00</td>\n",
       "      <td>173734.359871</td>\n",
       "      <td>958.0</td>\n",
       "    </tr>\n",
       "    <tr>\n",
       "      <th>4491</th>\n",
       "      <td>2021-02-06 12:00:00</td>\n",
       "      <td>248118.050003</td>\n",
       "      <td>857.0</td>\n",
       "    </tr>\n",
       "    <tr>\n",
       "      <th>4492</th>\n",
       "      <td>2021-02-06 13:00:00</td>\n",
       "      <td>236877.520000</td>\n",
       "      <td>985.0</td>\n",
       "    </tr>\n",
       "    <tr>\n",
       "      <th>4493</th>\n",
       "      <td>2021-02-06 14:00:00</td>\n",
       "      <td>290737.050105</td>\n",
       "      <td>995.0</td>\n",
       "    </tr>\n",
       "    <tr>\n",
       "      <th>4494</th>\n",
       "      <td>2021-02-06 15:00:00</td>\n",
       "      <td>214442.630004</td>\n",
       "      <td>835.0</td>\n",
       "    </tr>\n",
       "    <tr>\n",
       "      <th>4495</th>\n",
       "      <td>2021-02-06 16:00:00</td>\n",
       "      <td>201021.630065</td>\n",
       "      <td>754.0</td>\n",
       "    </tr>\n",
       "    <tr>\n",
       "      <th>4496</th>\n",
       "      <td>2021-02-06 17:00:00</td>\n",
       "      <td>89905.580005</td>\n",
       "      <td>545.0</td>\n",
       "    </tr>\n",
       "    <tr>\n",
       "      <th>4497</th>\n",
       "      <td>2021-02-06 18:00:00</td>\n",
       "      <td>137908.020010</td>\n",
       "      <td>471.0</td>\n",
       "    </tr>\n",
       "    <tr>\n",
       "      <th>4498</th>\n",
       "      <td>2021-02-06 19:00:00</td>\n",
       "      <td>57752.320007</td>\n",
       "      <td>367.0</td>\n",
       "    </tr>\n",
       "    <tr>\n",
       "      <th>4499</th>\n",
       "      <td>2021-02-06 20:00:00</td>\n",
       "      <td>73997.550003</td>\n",
       "      <td>332.0</td>\n",
       "    </tr>\n",
       "    <tr>\n",
       "      <th>4500</th>\n",
       "      <td>2021-02-06 21:00:00</td>\n",
       "      <td>21597.010000</td>\n",
       "      <td>144.0</td>\n",
       "    </tr>\n",
       "    <tr>\n",
       "      <th>4501</th>\n",
       "      <td>2021-02-06 22:00:00</td>\n",
       "      <td>9502.110001</td>\n",
       "      <td>114.0</td>\n",
       "    </tr>\n",
       "    <tr>\n",
       "      <th>4502</th>\n",
       "      <td>2021-02-06 23:00:00</td>\n",
       "      <td>13888.199990</td>\n",
       "      <td>91.0</td>\n",
       "    </tr>\n",
       "  </tbody>\n",
       "</table>\n",
       "</div>"
      ],
      "text/plain": [
       "              local_date          price  quantity\n",
       "4479 2021-02-06 00:00:00   15847.969998     137.0\n",
       "4480 2021-02-06 01:00:00    7598.000000      65.0\n",
       "4481 2021-02-06 02:00:00    5593.000000      44.0\n",
       "4482 2021-02-06 03:00:00    9003.000000      56.0\n",
       "4483 2021-02-06 04:00:00    1622.000000      13.0\n",
       "4484 2021-02-06 05:00:00    2621.000000      19.0\n",
       "4485 2021-02-06 06:00:00    7089.000000      43.0\n",
       "4486 2021-02-06 07:00:00    6900.739998     101.0\n",
       "4487 2021-02-06 08:00:00   64136.379968     355.0\n",
       "4488 2021-02-06 09:00:00   95312.539996     631.0\n",
       "4489 2021-02-06 10:00:00  175948.229946     871.0\n",
       "4490 2021-02-06 11:00:00  173734.359871     958.0\n",
       "4491 2021-02-06 12:00:00  248118.050003     857.0\n",
       "4492 2021-02-06 13:00:00  236877.520000     985.0\n",
       "4493 2021-02-06 14:00:00  290737.050105     995.0\n",
       "4494 2021-02-06 15:00:00  214442.630004     835.0\n",
       "4495 2021-02-06 16:00:00  201021.630065     754.0\n",
       "4496 2021-02-06 17:00:00   89905.580005     545.0\n",
       "4497 2021-02-06 18:00:00  137908.020010     471.0\n",
       "4498 2021-02-06 19:00:00   57752.320007     367.0\n",
       "4499 2021-02-06 20:00:00   73997.550003     332.0\n",
       "4500 2021-02-06 21:00:00   21597.010000     144.0\n",
       "4501 2021-02-06 22:00:00    9502.110001     114.0\n",
       "4502 2021-02-06 23:00:00   13888.199990      91.0"
      ]
     },
     "execution_count": 82,
     "metadata": {},
     "output_type": "execute_result"
    }
   ],
   "source": [
    "df1 = dataNN0[dataNN0['local_date'] >= '2021-02-06 00:00:00']\n",
    "df1"
   ]
  },
  {
   "cell_type": "code",
   "execution_count": 83,
   "metadata": {},
   "outputs": [
    {
     "data": {
      "text/plain": [
       "9783.0"
      ]
     },
     "execution_count": 83,
     "metadata": {},
     "output_type": "execute_result"
    }
   ],
   "source": [
    "df1['quantity'].sum()"
   ]
  },
  {
   "cell_type": "markdown",
   "metadata": {},
   "source": [
    "Ну вот около 10k продано за 06.02.2021 по Нижегородской области. Похоже это на правду? Я не знаю. Погуглим..."
   ]
  },
  {
   "cell_type": "markdown",
   "metadata": {},
   "source": [
    "Информации нет, посмотрим, что там, если выбрасывать надекватные цены и продажи больше одной банки за раз:"
   ]
  },
  {
   "cell_type": "code",
   "execution_count": 81,
   "metadata": {},
   "outputs": [
    {
     "data": {
      "text/plain": [
       "1741.0"
      ]
     },
     "execution_count": 81,
     "metadata": {},
     "output_type": "execute_result"
    }
   ],
   "source": [
    "df0 = dataNN[dataNN['local_date'] >= '2021-02-06 00:00:00']\n",
    "df0['quantity'].sum()"
   ]
  },
  {
   "cell_type": "markdown",
   "metadata": {},
   "source": [
    "Ну вот гораздо меньше, как прикинуть, что правильнее? Я думаю, цифра 10k более реалистичная. С ней и будем работать."
   ]
  },
  {
   "cell_type": "markdown",
   "metadata": {},
   "source": [
    "Всё, осталось только обучить какую-нибудь модель на таблице dataNN0 и предсказать 7-е число. Пока посмотрим на продажи по-ближе:"
   ]
  },
  {
   "cell_type": "code",
   "execution_count": 84,
   "metadata": {},
   "outputs": [
    {
     "data": {
      "image/png": "[encoded data removed]",
      "text/plain": [
       "<Figure size 1200x600 with 1 Axes>"
      ]
     },
     "metadata": {},
     "output_type": "display_data"
    }
   ],
   "source": [
    "plot(df1['local_date'], df1['quantity'])"
   ]
  },
  {
   "cell_type": "markdown",
   "metadata": {},
   "source": [
    "Ну тут все видно, ночью, с 00:00 до 06:00 продаж стабильно мало. С утра они растут, пик приходится где то на 14:00. В 12:00 странная просадка, причем похоже, что она есть во все дни (возможно это связано с тем, что это время обеда, не знаю). С 15:00 до 00:00 продажи падают."
   ]
  },
  {
   "cell_type": "markdown",
   "metadata": {},
   "source": [
    "Конечно, так как наша модель увидит только 6 дней и не увидит воскресенься, она просто выдаст то же самое, что и в прочие дни. Так что наверное, было бы правильнее в данной конкретной задаче просто поститать среднее (мат. ож-е) по часам и сказать, что так оно и будет. Но мы используем какую-нибудь ML модель."
   ]
  },
  {
   "cell_type": "code",
   "execution_count": 70,
   "metadata": {},
   "outputs": [
    {
     "data": {
      "text/plain": [
       "(144, 3)"
      ]
     },
     "execution_count": 70,
     "metadata": {},
     "output_type": "execute_result"
    }
   ],
   "source": [
    "dataNN0.shape"
   ]
  },
  {
   "cell_type": "code",
   "execution_count": 118,
   "metadata": {},
   "outputs": [],
   "source": [
    "import numpy as np"
   ]
  },
  {
   "cell_type": "markdown",
   "metadata": {},
   "source": [
    "Сделаем train и test. Возьмем первые пять дней и последние пять дней, то есть train и test - это одно и то же, только со сдвигом в одни сутки."
   ]
  },
  {
   "cell_type": "code",
   "execution_count": 102,
   "metadata": {},
   "outputs": [
    {
     "data": {
      "text/plain": [
       "array([[  53.],\n",
       "       [  48.],\n",
       "       [  13.],\n",
       "       [   3.],\n",
       "       [  15.],\n",
       "       [  10.],\n",
       "       [  21.],\n",
       "       [  70.],\n",
       "       [ 305.],\n",
       "       [ 666.],\n",
       "       [ 880.],\n",
       "       [ 730.],\n",
       "       [ 805.],\n",
       "       [ 641.],\n",
       "       [ 545.],\n",
       "       [ 650.],\n",
       "       [ 598.],\n",
       "       [ 877.],\n",
       "       [ 590.],\n",
       "       [ 311.],\n",
       "       [ 242.],\n",
       "       [ 146.],\n",
       "       [  84.],\n",
       "       [  44.],\n",
       "       [  56.],\n",
       "       [  39.],\n",
       "       [  45.],\n",
       "       [   5.],\n",
       "       [   2.],\n",
       "       [  15.],\n",
       "       [  23.],\n",
       "       [  50.],\n",
       "       [ 260.],\n",
       "       [ 456.],\n",
       "       [ 626.],\n",
       "       [ 706.],\n",
       "       [ 934.],\n",
       "       [ 577.],\n",
       "       [ 470.],\n",
       "       [ 869.],\n",
       "       [ 685.],\n",
       "       [ 795.],\n",
       "       [ 475.],\n",
       "       [ 390.],\n",
       "       [ 325.],\n",
       "       [  87.],\n",
       "       [  99.],\n",
       "       [  31.],\n",
       "       [  32.],\n",
       "       [  26.],\n",
       "       [  19.],\n",
       "       [   2.],\n",
       "       [   8.],\n",
       "       [   5.],\n",
       "       [  25.],\n",
       "       [  84.],\n",
       "       [ 297.],\n",
       "       [ 420.],\n",
       "       [ 670.],\n",
       "       [ 672.],\n",
       "       [ 731.],\n",
       "       [ 612.],\n",
       "       [ 621.],\n",
       "       [ 525.],\n",
       "       [ 705.],\n",
       "       [ 794.],\n",
       "       [ 764.],\n",
       "       [ 438.],\n",
       "       [ 284.],\n",
       "       [  95.],\n",
       "       [  91.],\n",
       "       [  96.],\n",
       "       [ 100.],\n",
       "       [  56.],\n",
       "       [  31.],\n",
       "       [   2.],\n",
       "       [   9.],\n",
       "       [  48.],\n",
       "       [ 136.],\n",
       "       [ 330.],\n",
       "       [ 578.],\n",
       "       [ 738.],\n",
       "       [ 915.],\n",
       "       [1013.],\n",
       "       [ 831.],\n",
       "       [ 867.],\n",
       "       [ 618.],\n",
       "       [ 935.],\n",
       "       [ 861.],\n",
       "       [1348.],\n",
       "       [1026.],\n",
       "       [1040.],\n",
       "       [ 763.],\n",
       "       [ 595.],\n",
       "       [ 332.],\n",
       "       [ 155.],\n",
       "       [ 104.],\n",
       "       [  73.],\n",
       "       [  13.],\n",
       "       [   3.],\n",
       "       [  19.],\n",
       "       [  37.],\n",
       "       [ 211.],\n",
       "       [ 349.],\n",
       "       [ 529.],\n",
       "       [ 587.],\n",
       "       [ 648.],\n",
       "       [ 842.],\n",
       "       [ 843.],\n",
       "       [ 663.],\n",
       "       [ 712.],\n",
       "       [ 707.],\n",
       "       [ 849.],\n",
       "       [ 825.],\n",
       "       [ 609.],\n",
       "       [ 538.],\n",
       "       [ 363.],\n",
       "       [ 165.],\n",
       "       [ 149.],\n",
       "       [  92.]])"
      ]
     },
     "execution_count": 102,
     "metadata": {},
     "output_type": "execute_result"
    }
   ],
   "source": [
    "from sklearn import linear_model\n",
    "\n",
    "train_X = dataNN0[dataNN0['local_date'] < '2021-02-06 00:00:00']\n",
    "train_X = train_X['quantity']\n",
    "train_X = np.array(train_X)\n",
    "train_X = train_X.reshape(-1, 1)\n",
    "\n",
    "train_y = dataNN0[dataNN0['local_date'] > '2021-02-01 23:00:00']\n",
    "train_y = train_y['quantity']\n",
    "train_y = np.array(train_y)\n",
    "train_y = train_y.reshape(-1, 1)\n",
    "\n",
    "test_X = train_y\n",
    "\n",
    "train_X"
   ]
  },
  {
   "cell_type": "markdown",
   "metadata": {},
   "source": [
    "Вольмём регрессию Лассо:"
   ]
  },
  {
   "cell_type": "code",
   "execution_count": 116,
   "metadata": {},
   "outputs": [],
   "source": [
    "reg = linear_model.Lasso(alpha=0.1)\n",
    "reg.fit(train_X, train_y)\n",
    "pred = reg.predict(test_X)"
   ]
  },
  {
   "cell_type": "code",
   "execution_count": 121,
   "metadata": {},
   "outputs": [
    {
     "data": {
      "text/plain": [
       "(120,)"
      ]
     },
     "execution_count": 121,
     "metadata": {},
     "output_type": "execute_result"
    }
   ],
   "source": [
    "pred.shape"
   ]
  },
  {
   "cell_type": "code",
   "execution_count": 117,
   "metadata": {},
   "outputs": [
    {
     "data": {
      "text/plain": [
       "array([ 114.60367531,   99.92868748,  105.10809495,   70.5787118 ,\n",
       "         67.98900806,   79.21105759,   86.11693422,  109.42426784,\n",
       "        290.70352938,  459.89750681,  606.6473852 ,  675.7061515 ,\n",
       "        872.52363545,  564.34889084,  471.98279092,  816.41338783,\n",
       "        657.57822535,  752.53402901,  476.29896381,  402.92402462,\n",
       "        346.813777  ,  141.36394726,  151.7227622 ,   93.02281085,\n",
       "         93.88604542,   88.70663795,   82.6639959 ,   67.98900806,\n",
       "         73.16841553,   70.5787118 ,   87.84340337,  138.77424352,\n",
       "        322.64320879,  428.82106198,  644.62970666,  646.35617582,\n",
       "        697.28701597,  594.5621011 ,  602.33121231,  519.46069275,\n",
       "        674.84291692,  751.67079443,  725.77375707,  444.3592844 ,\n",
       "        311.42115927,  148.26982389,  144.81688557,  149.13305846,\n",
       "        152.58599678,  114.60367531,   93.02281085,   67.98900806,\n",
       "         74.03165011,  107.69779868,  183.66244161,  351.12994989,\n",
       "        565.21212542,  703.32965802,  856.12217846,  940.71916717,\n",
       "        783.61047384,  814.68691868,  599.74150857,  873.38687003,\n",
       "        809.5075112 , 1229.90275105,  951.9412167 ,  964.0265008 ,\n",
       "        724.91052249,  579.88711326,  352.85641905,  200.06389861,\n",
       "        156.03893509,  129.27866315,   77.48458843,   68.85224264,\n",
       "         82.6639959 ,   98.20221832,  248.40503502,  367.53140689,\n",
       "        522.91363106,  572.98123663,  625.63854593,  793.10605421,\n",
       "        793.96928879,  638.58706461,  680.88555897,  676.56938608,\n",
       "        799.14869626,  778.43106637,  591.97239736,  530.68274227,\n",
       "        379.61669099,  208.6962444 ,  194.88449114,  145.68012015,\n",
       "        184.52567619,  122.37278652,  104.24486037,  114.60367531,\n",
       "         77.48458843,   82.6639959 ,  103.38162579,  153.44923136,\n",
       "        372.71081436,  610.96355809,  818.13985699,  893.24126534,\n",
       "        806.05457289,  916.54859897,  925.18094476,  787.06341216,\n",
       "        717.14141128,  536.72538432,  472.84602549,  383.0696293 ,\n",
       "        352.85641905,  190.56831824,  164.67128088,  144.81688557])"
      ]
     },
     "execution_count": 117,
     "metadata": {},
     "output_type": "execute_result"
    }
   ],
   "source": [
    "pred"
   ]
  },
  {
   "cell_type": "code",
   "execution_count": 123,
   "metadata": {},
   "outputs": [
    {
     "name": "stderr",
     "output_type": "stream",
     "text": [
      "C:\\Users\\nicks\\AppData\\Local\\Temp\\ipykernel_12620\\3357139386.py:1: FutureWarning: 'H' is deprecated and will be removed in a future version, please use 'h' instead.\n",
      "  test = pd.date_range(start='2021-02-03 00:00:00', end='2021-02-07 23:00:00', freq='H')\n"
     ]
    }
   ],
   "source": [
    "test = pd.date_range(start='2021-02-03 00:00:00', end='2021-02-07 23:00:00', freq='H')\n",
    "test = pd.DataFrame({\n",
    "    'local_date': test\n",
    "})"
   ]
  },
  {
   "cell_type": "code",
   "execution_count": 124,
   "metadata": {},
   "outputs": [
    {
     "data": {
      "text/plain": [
       "(120, 1)"
      ]
     },
     "execution_count": 124,
     "metadata": {},
     "output_type": "execute_result"
    }
   ],
   "source": [
    "test.shape"
   ]
  },
  {
   "cell_type": "code",
   "execution_count": 125,
   "metadata": {},
   "outputs": [
    {
     "data": {
      "image/png": "[encoded data removed]",
      "text/plain": [
       "<Figure size 1200x600 with 1 Axes>"
      ]
     },
     "metadata": {},
     "output_type": "display_data"
    }
   ],
   "source": [
    "plot(test, pred)"
   ]
  },
  {
   "cell_type": "markdown",
   "metadata": {},
   "source": [
    "Ну вот он, седьмой день."
   ]
  }
 ],
 "metadata": {
  "kernelspec": {
   "display_name": "base",
   "language": "python",
   "name": "python3"
  },
  "language_info": {
   "codemirror_mode": {
    "name": "ipython",
    "version": 3
   },
   "file_extension": ".py",
   "mimetype": "text/x-python",
   "name": "python",
   "nbconvert_exporter": "python",
   "pygments_lexer": "ipython3",
   "version": "3.12.7"
  }
 },
 "nbformat": 4,
 "nbformat_minor": 2
}
